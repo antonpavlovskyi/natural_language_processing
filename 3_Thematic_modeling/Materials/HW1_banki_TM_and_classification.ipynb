{
 "nbformat": 4,
 "nbformat_minor": 0,
 "metadata": {
  "kernelspec": {
   "display_name": "Python 3",
   "language": "python",
   "name": "python3"
  },
  "language_info": {
   "codemirror_mode": {
    "name": "ipython",
    "version": 3
   },
   "file_extension": ".py",
   "mimetype": "text/x-python",
   "name": "python",
   "nbconvert_exporter": "python",
   "pygments_lexer": "ipython3",
   "version": "3.6.0"
  },
  "colab": {
   "name": "HW1_banki_TM-and-classification.ipynb",
   "provenance": [],
   "collapsed_sections": []
  }
 },
 "cells": [
  {
   "cell_type": "code",
   "metadata": {
    "id": "h1dvK7H_qauH",
    "pycharm": {
     "name": "#%%\n"
    }
   },
   "source": [
    "import json\n",
    "import bz2\n",
    "import pymorphy2\n",
    "from tqdm.notebook import tqdm_notebook as tqdm\n",
    "from nltk.tokenize import word_tokenize\n",
    "import pandas as pd\n",
    "import numpy as np\n",
    "import nltk\n",
    "import matplotlib.pyplot as plt\n",
    "import seaborn as sns\n",
    "import itertools\n",
    "%matplotlib inline"
   ],
   "execution_count": 1,
   "outputs": []
  },
  {
   "cell_type": "code",
   "metadata": {
    "scrolled": true,
    "id": "UNHVsbPnqauL",
    "outputId": "e8d7d7f4-576b-4846-b06a-f3b4a08adb95",
    "pycharm": {
     "name": "#%%\n"
    }
   },
   "source": [
    "responses = []\n",
    "with bz2.BZ2File('banki_responses.json.bz2', 'r') as thefile:\n",
    "    for row in tqdm(thefile):\n",
    "        resp = json.loads(row)\n",
    "        if not resp['rating_not_checked'] and (len(resp['text'].split()) > 0):\n",
    "            responses.append(resp)"
   ],
   "execution_count": 2,
   "outputs": [
    {
     "data": {
      "text/plain": "0it [00:00, ?it/s]",
      "application/vnd.jupyter.widget-view+json": {
       "version_major": 2,
       "version_minor": 0,
       "model_id": "abc0e3251735412bbe1f6d004809e28d"
      }
     },
     "metadata": {},
     "output_type": "display_data"
    }
   ]
  },
  {
   "cell_type": "markdown",
   "source": [
    "## Часть 1. Анализ текстов"
   ],
   "metadata": {
    "collapsed": false,
    "pycharm": {
     "name": "#%% md\n"
    }
   }
  },
  {
   "cell_type": "code",
   "execution_count": 3,
   "outputs": [
    {
     "data": {
      "text/plain": "             city  rating_not_checked  \\\n0       г. Москва               False   \n1  г. Новосибирск               False   \n2       г. Москва               False   \n3   г. Ставрополь               False   \n4    г. Челябинск               False   \n\n                                               title  num_comments  \\\n0                                             Жалоба             0   \n1      Не могу пользоваться услугой Сбербанк он-лайн             0   \n2                    Двойное списание за один товар.             1   \n3  Меняют проценты комиссии  не предупредив и не ...             2   \n4             Верните денежные средства за страховку             1   \n\n      bank_license       author        bank_name             datetime  \\\n0  лицензия № 2562       uhnov1          Бинбанк  2015-06-08 12:50:54   \n1  лицензия № 1481       Foryou  Сбербанк России  2015-06-08 11:09:57   \n2  лицензия № 2562   Vladimir84          Бинбанк  2015-06-05 20:14:28   \n3  лицензия № 1481       643609  Сбербанк России  2015-06-05 13:51:01   \n4  лицензия № 2766  anfisa-2003         ОТП Банк  2015-06-05 10:58:12   \n\n                                                text  rating_grade  \n0  Добрый день! Я не являюсь клиентом банка и пор...           NaN  \n1  Доброго дня! Являюсь держателем зарплатной кар...           NaN  \n2  Здравствуйте!  Дублирую свое заявление от 03.0...           NaN  \n3  Добрый день!! Я открыл расчетный счет в СберБа...           NaN  \n4  04.03.2015 г. взяла кредит в вашем банке, заяв...           NaN  ",
      "text/html": "<div>\n<style scoped>\n    .dataframe tbody tr th:only-of-type {\n        vertical-align: middle;\n    }\n\n    .dataframe tbody tr th {\n        vertical-align: top;\n    }\n\n    .dataframe thead th {\n        text-align: right;\n    }\n</style>\n<table border=\"1\" class=\"dataframe\">\n  <thead>\n    <tr style=\"text-align: right;\">\n      <th></th>\n      <th>city</th>\n      <th>rating_not_checked</th>\n      <th>title</th>\n      <th>num_comments</th>\n      <th>bank_license</th>\n      <th>author</th>\n      <th>bank_name</th>\n      <th>datetime</th>\n      <th>text</th>\n      <th>rating_grade</th>\n    </tr>\n  </thead>\n  <tbody>\n    <tr>\n      <th>0</th>\n      <td>г. Москва</td>\n      <td>False</td>\n      <td>Жалоба</td>\n      <td>0</td>\n      <td>лицензия № 2562</td>\n      <td>uhnov1</td>\n      <td>Бинбанк</td>\n      <td>2015-06-08 12:50:54</td>\n      <td>Добрый день! Я не являюсь клиентом банка и пор...</td>\n      <td>NaN</td>\n    </tr>\n    <tr>\n      <th>1</th>\n      <td>г. Новосибирск</td>\n      <td>False</td>\n      <td>Не могу пользоваться услугой Сбербанк он-лайн</td>\n      <td>0</td>\n      <td>лицензия № 1481</td>\n      <td>Foryou</td>\n      <td>Сбербанк России</td>\n      <td>2015-06-08 11:09:57</td>\n      <td>Доброго дня! Являюсь держателем зарплатной кар...</td>\n      <td>NaN</td>\n    </tr>\n    <tr>\n      <th>2</th>\n      <td>г. Москва</td>\n      <td>False</td>\n      <td>Двойное списание за один товар.</td>\n      <td>1</td>\n      <td>лицензия № 2562</td>\n      <td>Vladimir84</td>\n      <td>Бинбанк</td>\n      <td>2015-06-05 20:14:28</td>\n      <td>Здравствуйте!  Дублирую свое заявление от 03.0...</td>\n      <td>NaN</td>\n    </tr>\n    <tr>\n      <th>3</th>\n      <td>г. Ставрополь</td>\n      <td>False</td>\n      <td>Меняют проценты комиссии  не предупредив и не ...</td>\n      <td>2</td>\n      <td>лицензия № 1481</td>\n      <td>643609</td>\n      <td>Сбербанк России</td>\n      <td>2015-06-05 13:51:01</td>\n      <td>Добрый день!! Я открыл расчетный счет в СберБа...</td>\n      <td>NaN</td>\n    </tr>\n    <tr>\n      <th>4</th>\n      <td>г. Челябинск</td>\n      <td>False</td>\n      <td>Верните денежные средства за страховку</td>\n      <td>1</td>\n      <td>лицензия № 2766</td>\n      <td>anfisa-2003</td>\n      <td>ОТП Банк</td>\n      <td>2015-06-05 10:58:12</td>\n      <td>04.03.2015 г. взяла кредит в вашем банке, заяв...</td>\n      <td>NaN</td>\n    </tr>\n  </tbody>\n</table>\n</div>"
     },
     "execution_count": 3,
     "metadata": {},
     "output_type": "execute_result"
    }
   ],
   "source": [
    "df = pd.DataFrame(responses)\n",
    "df.head()"
   ],
   "metadata": {
    "collapsed": false,
    "pycharm": {
     "name": "#%%\n"
    }
   }
  },
  {
   "cell_type": "markdown",
   "source": [
    "### 1. Посчитайте количество отзывов в разных городах и на разные банки"
   ],
   "metadata": {
    "collapsed": false,
    "pycharm": {
     "name": "#%% md\n"
    }
   }
  },
  {
   "cell_type": "code",
   "execution_count": 17,
   "outputs": [
    {
     "data": {
      "text/plain": "city\nг. Москва                              210028\nг. Санкт-Петербург                      54451\nг. Новосибирск                           8206\nг. Екатеринбург                          7842\nг. Нижний Новгород                       6459\n                                        ...  \nг. РТ,г.Набережные Челны                    0\nг. РТ Бавлы                                 0\nг. РП.Пречистое Ярославской области         0\nг. РОСТОВ-НА -ДОНУ                          0\nг. … или другой населенный пункт            0\nName: num_comments, Length: 5823, dtype: int64"
     },
     "execution_count": 17,
     "metadata": {},
     "output_type": "execute_result"
    }
   ],
   "source": [
    "df.groupby('city')['num_comments'].sum().sort_values(ascending=False)"
   ],
   "metadata": {
    "collapsed": false,
    "pycharm": {
     "name": "#%%\n"
    }
   }
  },
  {
   "cell_type": "code",
   "execution_count": 18,
   "outputs": [
    {
     "data": {
      "text/plain": "bank_name\nСбербанк России             107056\nТинькофф Банк                55425\nРусский Стандарт             43824\nАльфа-Банк                   37493\nАвангард                     31554\n                             ...  \nТатсоцбанк                       0\nБелгородпромстройбанк            0\nЕврокредит                       0\nБаренцбанк                       0\nТульский Расчетный Центр         0\nName: num_comments, Length: 670, dtype: int64"
     },
     "execution_count": 18,
     "metadata": {},
     "output_type": "execute_result"
    }
   ],
   "source": [
    "df.groupby('bank_name')['num_comments'].sum().sort_values(ascending=False)"
   ],
   "metadata": {
    "collapsed": false,
    "pycharm": {
     "name": "#%%\n"
    }
   }
  },
  {
   "cell_type": "markdown",
   "source": [
    "### 2. Постройте гистограмы длин слов в символах и в словах"
   ],
   "metadata": {
    "collapsed": false,
    "pycharm": {
     "name": "#%% md\n"
    }
   }
  },
  {
   "cell_type": "code",
   "execution_count": 8,
   "outputs": [
    {
     "name": "stderr",
     "output_type": "stream",
     "text": [
      "[nltk_data] Downloading package punkt to\n",
      "[nltk_data]     C:\\Users\\a.pavlovskyi\\AppData\\Roaming\\nltk_data...\n",
      "[nltk_data]   Unzipping tokenizers\\punkt.zip.\n"
     ]
    },
    {
     "data": {
      "text/plain": "True"
     },
     "execution_count": 8,
     "metadata": {},
     "output_type": "execute_result"
    }
   ],
   "source": [
    "nltk.download('punkt')"
   ],
   "metadata": {
    "collapsed": false,
    "pycharm": {
     "name": "#%%\n"
    }
   }
  },
  {
   "cell_type": "code",
   "execution_count": 4,
   "outputs": [],
   "source": [
    "df['tokenized_text'] = df['text'].str.lower().str.replace(\"[^А-Яа-яё]+\", ' ', regex=True).str.strip().apply(word_tokenize)"
   ],
   "metadata": {
    "collapsed": false,
    "pycharm": {
     "name": "#%%\n"
    }
   }
  },
  {
   "cell_type": "markdown",
   "source": [
    "#### В словах"
   ],
   "metadata": {
    "collapsed": false,
    "pycharm": {
     "name": "#%% md\n"
    }
   }
  },
  {
   "cell_type": "code",
   "execution_count": 17,
   "outputs": [
    {
     "data": {
      "text/plain": "<Figure size 432x288 with 1 Axes>",
      "image/png": "[encoded data removed]"
     },
     "metadata": {
      "needs_background": "light"
     },
     "output_type": "display_data"
    }
   ],
   "source": [
    "word_lengths = [len(row) for row in df['tokenized_text']]\n",
    "plt.hist(word_lengths, bins=100)\n",
    "plt.show()"
   ],
   "metadata": {
    "collapsed": false,
    "pycharm": {
     "name": "#%%\n"
    }
   }
  },
  {
   "cell_type": "markdown",
   "source": [
    "#### В символах"
   ],
   "metadata": {
    "collapsed": false,
    "pycharm": {
     "name": "#%% md\n"
    }
   }
  },
  {
   "cell_type": "code",
   "execution_count": 18,
   "outputs": [
    {
     "data": {
      "text/plain": "<Figure size 432x288 with 1 Axes>",
      "image/png": "[encoded data removed]"
     },
     "metadata": {
      "needs_background": "light"
     },
     "output_type": "display_data"
    }
   ],
   "source": [
    "symbols_lengths = [len(row) for row in df['text']]\n",
    "plt.hist(symbols_lengths, bins=100)\n",
    "plt.show()"
   ],
   "metadata": {
    "collapsed": false,
    "pycharm": {
     "name": "#%%\n"
    }
   }
  },
  {
   "cell_type": "markdown",
   "source": [
    "### 3. Найдите 10 самых частых:"
   ],
   "metadata": {
    "collapsed": false,
    "pycharm": {
     "name": "#%% md\n"
    }
   }
  },
  {
   "cell_type": "markdown",
   "source": [
    "#### слов"
   ],
   "metadata": {
    "collapsed": false,
    "pycharm": {
     "name": "#%% md\n"
    }
   }
  },
  {
   "cell_type": "code",
   "execution_count": 6,
   "outputs": [
    {
     "data": {
      "text/plain": "[('в', 1330307),\n ('и', 1058997),\n ('не', 852432),\n ('на', 707803),\n ('что', 640057),\n ('я', 577500),\n ('с', 463027),\n ('по', 372759),\n ('мне', 320958),\n ('банка', 275906)]"
     },
     "execution_count": 6,
     "metadata": {},
     "output_type": "execute_result"
    }
   ],
   "source": [
    "allWordDist = nltk.FreqDist(list(itertools.chain(*df['tokenized_text'].tolist())))\n",
    "allWordDist.most_common(10)"
   ],
   "metadata": {
    "collapsed": false,
    "pycharm": {
     "name": "#%%\n"
    }
   }
  },
  {
   "cell_type": "markdown",
   "source": [
    "#### слов без стоп-слов"
   ],
   "metadata": {
    "collapsed": false,
    "pycharm": {
     "name": "#%% md\n"
    }
   }
  },
  {
   "cell_type": "code",
   "execution_count": 9,
   "outputs": [
    {
     "name": "stderr",
     "output_type": "stream",
     "text": [
      "[nltk_data] Downloading package stopwords to\n",
      "[nltk_data]     C:\\Users\\a.pavlovskyi\\AppData\\Roaming\\nltk_data...\n",
      "[nltk_data]   Package stopwords is already up-to-date!\n"
     ]
    },
    {
     "data": {
      "text/plain": "True"
     },
     "execution_count": 9,
     "metadata": {},
     "output_type": "execute_result"
    }
   ],
   "source": [
    "nltk.download('stopwords')"
   ],
   "metadata": {
    "collapsed": false,
    "pycharm": {
     "name": "#%%\n"
    }
   }
  },
  {
   "cell_type": "code",
   "execution_count": 5,
   "outputs": [],
   "source": [
    "stopwords = nltk.corpus.stopwords.words('russian')\n",
    "df['tokenized_text_no_stop_words'] = [[word for word in w if word not in stopwords] for w in df['tokenized_text']]"
   ],
   "metadata": {
    "collapsed": false,
    "pycharm": {
     "name": "#%%\n"
    }
   }
  },
  {
   "cell_type": "code",
   "execution_count": 58,
   "outputs": [
    {
     "data": {
      "text/plain": "[('банка', 275906),\n ('банк', 215425),\n ('это', 183365),\n ('деньги', 131201),\n ('карту', 105829),\n ('карты', 101821),\n ('кредит', 81135),\n ('день', 76552),\n ('т', 75759),\n ('банке', 72169)]"
     },
     "execution_count": 58,
     "metadata": {},
     "output_type": "execute_result"
    }
   ],
   "source": [
    "allWordExceptStopDist = nltk.FreqDist(list(itertools.chain(*df['tokenized_text_no_stop_words'].tolist())))\n",
    "allWordExceptStopDist.most_common(10)"
   ],
   "metadata": {
    "collapsed": false,
    "pycharm": {
     "name": "#%%\n"
    }
   }
  },
  {
   "cell_type": "markdown",
   "source": [
    "#### лемм"
   ],
   "metadata": {
    "collapsed": false,
    "pycharm": {
     "name": "#%% md\n"
    }
   }
  },
  {
   "cell_type": "code",
   "execution_count": 12,
   "outputs": [],
   "source": [
    "m = pymorphy2.MorphAnalyzer()"
   ],
   "metadata": {
    "collapsed": false,
    "pycharm": {
     "name": "#%%\n"
    }
   }
  },
  {
   "cell_type": "code",
   "execution_count": 13,
   "outputs": [
    {
     "data": {
      "text/plain": "  0%|          | 0/153499 [00:00<?, ?it/s]",
      "application/vnd.jupyter.widget-view+json": {
       "version_major": 2,
       "version_minor": 0,
       "model_id": "89e8fa480a204c33a97e3f84f4624902"
      }
     },
     "metadata": {},
     "output_type": "display_data"
    }
   ],
   "source": [
    "df['lemmatized_text'] = [' '.join(list((m.parse(word)[0].normal_form for word in w))) for w in tqdm(df['tokenized_text_no_stop_words'])]"
   ],
   "metadata": {
    "collapsed": false,
    "pycharm": {
     "name": "#%%\n"
    }
   }
  },
  {
   "cell_type": "code",
   "execution_count": 15,
   "outputs": [],
   "source": [
    "df.to_feather('df_temp.ftr')"
   ],
   "metadata": {
    "collapsed": false,
    "pycharm": {
     "name": "#%%\n"
    }
   }
  },
  {
   "cell_type": "code",
   "execution_count": 2,
   "outputs": [],
   "source": [
    "df = pd.read_feather('df_temp.ftr')"
   ],
   "metadata": {
    "collapsed": false,
    "pycharm": {
     "name": "#%%\n"
    }
   }
  },
  {
   "cell_type": "code",
   "execution_count": 16,
   "outputs": [
    {
     "data": {
      "text/plain": "[('банк', 668547),\n ('карта', 334999),\n ('это', 200057),\n ('деньга', 179819),\n ('день', 173688),\n ('мой', 168999),\n ('кредит', 156176),\n ('который', 149017),\n ('отделение', 144050),\n ('счёт', 142646)]"
     },
     "execution_count": 16,
     "metadata": {},
     "output_type": "execute_result"
    }
   ],
   "source": [
    "lemms = nltk.FreqDist(list(itertools.chain(*df['lemmatized_text'].str.split(' ').tolist())))\n",
    "lemms.most_common(10)"
   ],
   "metadata": {
    "collapsed": false,
    "pycharm": {
     "name": "#%%\n"
    }
   }
  },
  {
   "cell_type": "markdown",
   "source": [
    "#### существительных"
   ],
   "metadata": {
    "collapsed": false,
    "pycharm": {
     "name": "#%% md\n"
    }
   }
  },
  {
   "cell_type": "code",
   "execution_count": 38,
   "outputs": [
    {
     "data": {
      "text/plain": "[['банк', 668547],\n ['карта', 334999],\n ['деньга', 179819],\n ['день', 173688],\n ['кредит', 156176],\n ['отделение', 144050],\n ['счёт', 142646],\n ['клиент', 136892],\n ['сотрудник', 134168],\n ['сумма', 111232],\n ['заявление', 104419]]"
     },
     "execution_count": 38,
     "metadata": {},
     "output_type": "execute_result"
    }
   ],
   "source": [
    "nouns = []\n",
    "for w in lemms.most_common():\n",
    "    if 'NOUN' in m.parse(w[0])[0].tag:\n",
    "        nouns.append([w[0], w[1]])\n",
    "nouns[:11]"
   ],
   "metadata": {
    "collapsed": false,
    "pycharm": {
     "name": "#%%\n"
    }
   }
  },
  {
   "cell_type": "markdown",
   "source": [
    "### 4. Постройте кривые Ципфа и Хипса"
   ],
   "metadata": {
    "collapsed": false,
    "pycharm": {
     "name": "#%% md\n"
    }
   }
  },
  {
   "cell_type": "markdown",
   "source": [
    "#### Кривая Ципфа"
   ],
   "metadata": {
    "collapsed": false,
    "pycharm": {
     "name": "#%% md\n"
    }
   }
  },
  {
   "cell_type": "code",
   "execution_count": 18,
   "outputs": [
    {
     "data": {
      "text/plain": "[<matplotlib.lines.Line2D at 0x1c6abefa7f0>]"
     },
     "execution_count": 18,
     "metadata": {},
     "output_type": "execute_result"
    },
    {
     "data": {
      "text/plain": "<Figure size 432x288 with 1 Axes>",
      "image/png": "[encoded data removed]"
     },
     "metadata": {
      "needs_background": "light"
     },
     "output_type": "display_data"
    }
   ],
   "source": [
    "temp_rank = []\n",
    "temp_data = pd.DataFrame(lemms.most_common(300), columns=['lemm', 'frequency'])\n",
    "for i, w in enumerate(temp_data['frequency'], 1):\n",
    "    temp_rank.append(i)\n",
    "\n",
    "temp_data['rank'] = temp_rank\n",
    "# temp_data['rank x frequency'] = temp_data['rank'] * temp_data['frequency']\n",
    "temp_data.sort_values('rank', ascending=True)\n",
    "plt.plot(temp_data['rank'],temp_data['frequency'])"
   ],
   "metadata": {
    "collapsed": false,
    "pycharm": {
     "name": "#%%\n"
    }
   }
  },
  {
   "cell_type": "markdown",
   "source": [
    "#### Кривая Хипса"
   ],
   "metadata": {
    "collapsed": false,
    "pycharm": {
     "name": "#%% md\n"
    }
   }
  },
  {
   "cell_type": "code",
   "execution_count": 39,
   "outputs": [],
   "source": [
    "words_list = [m.parse(w)[0].normal_form for w in lemms]"
   ],
   "metadata": {
    "collapsed": false,
    "pycharm": {
     "name": "#%%\n"
    }
   }
  },
  {
   "cell_type": "code",
   "execution_count": 42,
   "outputs": [
    {
     "data": {
      "text/plain": "[<matplotlib.lines.Line2D at 0x1c66ac49040>]"
     },
     "execution_count": 42,
     "metadata": {},
     "output_type": "execute_result"
    },
    {
     "data": {
      "text/plain": "<Figure size 432x288 with 1 Axes>",
      "image/png": "[encoded data removed]"
     },
     "metadata": {
      "needs_background": "light"
     },
     "output_type": "display_data"
    }
   ],
   "source": [
    "k = 50\n",
    "b = 0.4\n",
    "\n",
    "word = set()\n",
    "r = []\n",
    "\n",
    "for w in words_list:\n",
    "    word.add(w)\n",
    "    r.append(k*len(word)**b)\n",
    "\n",
    "point = [n for n in range(len(r))]\n",
    "\n",
    "plt.plot(point, r)"
   ],
   "metadata": {
    "collapsed": false,
    "pycharm": {
     "name": "#%%\n"
    }
   }
  },
  {
   "cell_type": "markdown",
   "source": [
    "### 5. Ответьте на следующие вопросы:"
   ],
   "metadata": {
    "collapsed": false,
    "pycharm": {
     "name": "#%% md\n"
    }
   }
  },
  {
   "cell_type": "markdown",
   "source": [
    "#### какое слово встречается чаще, \"сотрудник\" или \"клиент\"?"
   ],
   "metadata": {
    "collapsed": false,
    "pycharm": {
     "name": "#%% md\n"
    }
   }
  },
  {
   "cell_type": "code",
   "execution_count": 43,
   "outputs": [
    {
     "name": "stdout",
     "output_type": "stream",
     "text": [
      "клиент 136892\n"
     ]
    }
   ],
   "source": [
    "if lemms['сотрудник'] > lemms['клиент']:\n",
    "    print('сотрудник', lemms['сотрудник'])\n",
    "else:\n",
    "    print('клиент', lemms['клиент'])"
   ],
   "metadata": {
    "collapsed": false,
    "pycharm": {
     "name": "#%%\n"
    }
   }
  },
  {
   "cell_type": "markdown",
   "source": [
    "#### сколько раз встречается слова \"мошенничество\" и \"доверие\"?"
   ],
   "metadata": {
    "collapsed": false,
    "pycharm": {
     "name": "#%% md\n"
    }
   }
  },
  {
   "cell_type": "code",
   "execution_count": 44,
   "outputs": [
    {
     "name": "stdout",
     "output_type": "stream",
     "text": [
      "мошенничество 3244\n"
     ]
    }
   ],
   "source": [
    "if lemms['мошенничество'] > lemms['доверие']:\n",
    "    print('мошенничество', lemms['мошенничество'])\n",
    "else:\n",
    "    print('доверие', lemms['доверие'])"
   ],
   "metadata": {
    "collapsed": false,
    "pycharm": {
     "name": "#%%\n"
    }
   }
  },
  {
   "cell_type": "markdown",
   "source": [
    "### 6. Найти ключевые слова и биграмы для положительных отзывов (с оценкой 5) и отрицательных отзывов (с оценкой 1)"
   ],
   "metadata": {
    "collapsed": false,
    "pycharm": {
     "name": "#%% md\n"
    }
   }
  },
  {
   "cell_type": "code",
   "execution_count": 3,
   "outputs": [
    {
     "data": {
      "text/plain": "1.0    47387\n5.0    14713\n2.0    13509\n3.0     9261\n4.0     3788\nName: rating_grade, dtype: int64"
     },
     "execution_count": 3,
     "metadata": {},
     "output_type": "execute_result"
    }
   ],
   "source": [
    "df['rating_grade'].value_counts()"
   ],
   "metadata": {
    "collapsed": false,
    "pycharm": {
     "name": "#%%\n"
    }
   }
  },
  {
   "cell_type": "markdown",
   "source": [
    "#### Сбалансируем выборки"
   ],
   "metadata": {
    "collapsed": false,
    "pycharm": {
     "name": "#%% md\n"
    }
   }
  },
  {
   "cell_type": "code",
   "execution_count": 3,
   "outputs": [
    {
     "data": {
      "text/plain": "1.0    10000\n5.0    10000\nName: rating_grade, dtype: int64"
     },
     "execution_count": 3,
     "metadata": {},
     "output_type": "execute_result"
    }
   ],
   "source": [
    "num=10000\n",
    "\n",
    "# df_sample = df[(df.rating_grade==1)].sample(n=num).copy()\n",
    "df_sample = pd.concat([df[(df.rating_grade==1)].sample(n=num), df[(df.rating_grade==5)].sample(n=num)])\n",
    "\n",
    "df_sample.rating_grade.value_counts()"
   ],
   "metadata": {
    "collapsed": false,
    "pycharm": {
     "name": "#%%\n"
    }
   }
  },
  {
   "cell_type": "code",
   "execution_count": 58,
   "outputs": [],
   "source": [
    "tokens_by_topic = []\n",
    "\n",
    "for rating in df_sample.rating_grade.unique():\n",
    "    tokens=[]\n",
    "    sample=df_sample[df_sample['rating_grade']==rating]\n",
    "\n",
    "    for i in range(len(sample)):\n",
    "        tokens += sample['lemmatized_text'].iloc[i].split()\n",
    "\n",
    "    tokens_by_topic.append(tokens)"
   ],
   "metadata": {
    "collapsed": false,
    "pycharm": {
     "name": "#%%\n"
    }
   }
  },
  {
   "cell_type": "markdown",
   "source": [
    "#### Униграммы"
   ],
   "metadata": {
    "collapsed": false,
    "pycharm": {
     "name": "#%% md\n"
    }
   }
  },
  {
   "cell_type": "code",
   "execution_count": 59,
   "outputs": [],
   "source": [
    "from sklearn.feature_extraction.text import TfidfVectorizer\n",
    "\n",
    "tfidf = TfidfVectorizer(analyzer='word', ngram_range=(1,1), min_df = 0)\n",
    "tfidf_matrix =  tfidf.fit_transform([' '.join(tokens) for tokens in tokens_by_topic])\n",
    "feature_names = tfidf.get_feature_names_out()\n",
    "tfidf_ranking_5 = []\n",
    "tfidf_ranking_1 = []\n",
    "dense = tfidf_matrix.todense()\n",
    "\n",
    "text = dense[1].tolist()[0]\n",
    "phrase_scores = [pair for pair in zip(range(0, len(text)), text) if pair[1] > 0]\n",
    "sorted_phrase_scores = sorted(phrase_scores, key=lambda t: t[1] * -1)\n",
    "phrases = []\n",
    "\n",
    "for phrase, score in [(feature_names[word_id], score) for (word_id, score) in sorted_phrase_scores][:70]:\n",
    "    tfidf_ranking_5.append(phrase)\n",
    "\n",
    "text = dense[0].tolist()[0]\n",
    "phrase_scores = [pair for pair in zip(range(0, len(text)), text) if pair[1] > 0]\n",
    "sorted_phrase_scores = sorted(phrase_scores, key=lambda t: t[1] * -1)\n",
    "phrases = []\n",
    "\n",
    "for phrase, score in [(feature_names[word_id], score) for (word_id, score) in sorted_phrase_scores][:70]:\n",
    "    tfidf_ranking_1.append(phrase)"
   ],
   "metadata": {
    "collapsed": false,
    "pycharm": {
     "name": "#%%\n"
    }
   }
  },
  {
   "cell_type": "code",
   "execution_count": 60,
   "outputs": [
    {
     "data": {
      "text/plain": "  tfidf_ranking_5 tfidf_ranking_1\n0            банк            банк\n1           карта           карта\n2             это             это\n3           очень          деньга\n4            день            день\n5          кредит             мой\n6          клиент       отделение\n7       отделение         который\n8         который            счёт\n9             мой          кредит",
      "text/html": "<div>\n<style scoped>\n    .dataframe tbody tr th:only-of-type {\n        vertical-align: middle;\n    }\n\n    .dataframe tbody tr th {\n        vertical-align: top;\n    }\n\n    .dataframe thead th {\n        text-align: right;\n    }\n</style>\n<table border=\"1\" class=\"dataframe\">\n  <thead>\n    <tr style=\"text-align: right;\">\n      <th></th>\n      <th>tfidf_ranking_5</th>\n      <th>tfidf_ranking_1</th>\n    </tr>\n  </thead>\n  <tbody>\n    <tr>\n      <th>0</th>\n      <td>банк</td>\n      <td>банк</td>\n    </tr>\n    <tr>\n      <th>1</th>\n      <td>карта</td>\n      <td>карта</td>\n    </tr>\n    <tr>\n      <th>2</th>\n      <td>это</td>\n      <td>это</td>\n    </tr>\n    <tr>\n      <th>3</th>\n      <td>очень</td>\n      <td>деньга</td>\n    </tr>\n    <tr>\n      <th>4</th>\n      <td>день</td>\n      <td>день</td>\n    </tr>\n    <tr>\n      <th>5</th>\n      <td>кредит</td>\n      <td>мой</td>\n    </tr>\n    <tr>\n      <th>6</th>\n      <td>клиент</td>\n      <td>отделение</td>\n    </tr>\n    <tr>\n      <th>7</th>\n      <td>отделение</td>\n      <td>который</td>\n    </tr>\n    <tr>\n      <th>8</th>\n      <td>который</td>\n      <td>счёт</td>\n    </tr>\n    <tr>\n      <th>9</th>\n      <td>мой</td>\n      <td>кредит</td>\n    </tr>\n  </tbody>\n</table>\n</div>"
     },
     "execution_count": 60,
     "metadata": {},
     "output_type": "execute_result"
    }
   ],
   "source": [
    "rank = pd.DataFrame({'tfidf_ranking_5': tfidf_ranking_5,'tfidf_ranking_1': tfidf_ranking_1})\n",
    "rank.head(10)"
   ],
   "metadata": {
    "collapsed": false,
    "pycharm": {
     "name": "#%%\n"
    }
   }
  },
  {
   "cell_type": "markdown",
   "source": [
    "#### Убираем пересечения"
   ],
   "metadata": {
    "collapsed": false,
    "pycharm": {
     "name": "#%% md\n"
    }
   }
  },
  {
   "cell_type": "code",
   "execution_count": 61,
   "outputs": [],
   "source": [
    "rank['tfidf_ranking_5_without_1']=rank.tfidf_ranking_5[~rank.tfidf_ranking_5.isin(rank.tfidf_ranking_1)]\n",
    "rank['tfidf_ranking_1_without_5']=rank.tfidf_ranking_1[~rank.tfidf_ranking_1.isin(rank.tfidf_ranking_5)]"
   ],
   "metadata": {
    "collapsed": false,
    "pycharm": {
     "name": "#%%\n"
    }
   }
  },
  {
   "cell_type": "code",
   "execution_count": 62,
   "outputs": [
    {
     "data": {
      "text/plain": "   tfidf_ranking_5_without_1 tfidf_ranking_1_without_5\n20              обслуживание                     ответ\n44              пользоваться                     рубль\n46                    первый                  средство\n56                 несколько                 претензия\n58                     новый                информация\n68                       всё                обратиться",
      "text/html": "<div>\n<style scoped>\n    .dataframe tbody tr th:only-of-type {\n        vertical-align: middle;\n    }\n\n    .dataframe tbody tr th {\n        vertical-align: top;\n    }\n\n    .dataframe thead th {\n        text-align: right;\n    }\n</style>\n<table border=\"1\" class=\"dataframe\">\n  <thead>\n    <tr style=\"text-align: right;\">\n      <th></th>\n      <th>tfidf_ranking_5_without_1</th>\n      <th>tfidf_ranking_1_without_5</th>\n    </tr>\n  </thead>\n  <tbody>\n    <tr>\n      <th>20</th>\n      <td>обслуживание</td>\n      <td>ответ</td>\n    </tr>\n    <tr>\n      <th>44</th>\n      <td>пользоваться</td>\n      <td>рубль</td>\n    </tr>\n    <tr>\n      <th>46</th>\n      <td>первый</td>\n      <td>средство</td>\n    </tr>\n    <tr>\n      <th>56</th>\n      <td>несколько</td>\n      <td>претензия</td>\n    </tr>\n    <tr>\n      <th>58</th>\n      <td>новый</td>\n      <td>информация</td>\n    </tr>\n    <tr>\n      <th>68</th>\n      <td>всё</td>\n      <td>обратиться</td>\n    </tr>\n  </tbody>\n</table>\n</div>"
     },
     "execution_count": 62,
     "metadata": {},
     "output_type": "execute_result"
    }
   ],
   "source": [
    "rank.iloc[:,-2:].dropna()"
   ],
   "metadata": {
    "collapsed": false,
    "pycharm": {
     "name": "#%%\n"
    }
   }
  },
  {
   "cell_type": "markdown",
   "source": [
    "#### Биграммы"
   ],
   "metadata": {
    "collapsed": false,
    "pycharm": {
     "name": "#%% md\n"
    }
   }
  },
  {
   "cell_type": "code",
   "execution_count": 63,
   "outputs": [],
   "source": [
    "from sklearn.feature_extraction.text import TfidfVectorizer\n",
    "\n",
    "tfidf = TfidfVectorizer(analyzer='word', ngram_range=(2,2), min_df = 0)\n",
    "tfidf_matrix =  tfidf.fit_transform([' '.join(tokens) for tokens in tokens_by_topic])\n",
    "feature_names = tfidf.get_feature_names_out()\n",
    "tfidf_ranking_rank_is_5 = []\n",
    "tfidf_ranking_rank_is_1 = []\n",
    "dense = tfidf_matrix.todense()\n",
    "\n",
    "text = dense[1].tolist()[0]\n",
    "phrase_scores = [pair for pair in zip(range(0, len(text)), text) if pair[1] > 0]\n",
    "sorted_phrase_scores = sorted(phrase_scores, key=lambda t: t[1] * -1)\n",
    "phrases = []\n",
    "\n",
    "for phrase, score in [(feature_names[word_id], score) for (word_id, score) in sorted_phrase_scores][:70]:\n",
    "    tfidf_ranking_rank_is_5.append(phrase)\n",
    "\n",
    "text = dense[0].tolist()[0]\n",
    "phrase_scores = [pair for pair in zip(range(0, len(text)), text) if pair[1] > 0]\n",
    "sorted_phrase_scores = sorted(phrase_scores, key=lambda t: t[1] * -1)\n",
    "phrases = []\n",
    "\n",
    "for phrase, score in [(feature_names[word_id], score) for (word_id, score) in sorted_phrase_scores][:70]:\n",
    "    tfidf_ranking_rank_is_1.append(phrase)"
   ],
   "metadata": {
    "collapsed": false,
    "pycharm": {
     "name": "#%%\n"
    }
   }
  },
  {
   "cell_type": "code",
   "execution_count": 64,
   "outputs": [
    {
     "data": {
      "text/plain": "  tfidf_ranking_rank_is_5 tfidf_ranking_rank_is_1\n0           интернет банк          сотрудник банк\n1         кредитный карта         кредитный карта\n2             другой банк          отделение банк\n3          сотрудник банк       денежный средство\n4             клиент банк      написать заявление\n5          следующий день           горячий линия\n6         являться клиент            рабочий день\n7          отделение банк             клиент банк\n8            банк который                так быть\n9         дебетовый карта                ваш банк",
      "text/html": "<div>\n<style scoped>\n    .dataframe tbody tr th:only-of-type {\n        vertical-align: middle;\n    }\n\n    .dataframe tbody tr th {\n        vertical-align: top;\n    }\n\n    .dataframe thead th {\n        text-align: right;\n    }\n</style>\n<table border=\"1\" class=\"dataframe\">\n  <thead>\n    <tr style=\"text-align: right;\">\n      <th></th>\n      <th>tfidf_ranking_rank_is_5</th>\n      <th>tfidf_ranking_rank_is_1</th>\n    </tr>\n  </thead>\n  <tbody>\n    <tr>\n      <th>0</th>\n      <td>интернет банк</td>\n      <td>сотрудник банк</td>\n    </tr>\n    <tr>\n      <th>1</th>\n      <td>кредитный карта</td>\n      <td>кредитный карта</td>\n    </tr>\n    <tr>\n      <th>2</th>\n      <td>другой банк</td>\n      <td>отделение банк</td>\n    </tr>\n    <tr>\n      <th>3</th>\n      <td>сотрудник банк</td>\n      <td>денежный средство</td>\n    </tr>\n    <tr>\n      <th>4</th>\n      <td>клиент банк</td>\n      <td>написать заявление</td>\n    </tr>\n    <tr>\n      <th>5</th>\n      <td>следующий день</td>\n      <td>горячий линия</td>\n    </tr>\n    <tr>\n      <th>6</th>\n      <td>являться клиент</td>\n      <td>рабочий день</td>\n    </tr>\n    <tr>\n      <th>7</th>\n      <td>отделение банк</td>\n      <td>клиент банк</td>\n    </tr>\n    <tr>\n      <th>8</th>\n      <td>банк который</td>\n      <td>так быть</td>\n    </tr>\n    <tr>\n      <th>9</th>\n      <td>дебетовый карта</td>\n      <td>ваш банк</td>\n    </tr>\n  </tbody>\n</table>\n</div>"
     },
     "execution_count": 64,
     "metadata": {},
     "output_type": "execute_result"
    }
   ],
   "source": [
    "rankings = pd.DataFrame({'tfidf_ranking_rank_is_5': tfidf_ranking_rank_is_5,'tfidf_ranking_rank_is_1': tfidf_ranking_rank_is_1})\n",
    "rankings.head(10)"
   ],
   "metadata": {
    "collapsed": false,
    "pycharm": {
     "name": "#%%\n"
    }
   }
  },
  {
   "cell_type": "code",
   "execution_count": 65,
   "outputs": [],
   "source": [
    "rankings['tfidf_ranking_rank_is_5_without_1']=rankings.tfidf_ranking_rank_is_5[~rankings.tfidf_ranking_rank_is_5.isin(rankings.tfidf_ranking_rank_is_1)]\n",
    "rankings['tfidf_ranking_rank_is_1_without_5']=rankings.tfidf_ranking_rank_is_1[~rankings.tfidf_ranking_rank_is_1.isin(rankings.tfidf_ranking_rank_is_5)]"
   ],
   "metadata": {
    "collapsed": false,
    "pycharm": {
     "name": "#%%\n"
    }
   }
  },
  {
   "cell_type": "code",
   "execution_count": 66,
   "outputs": [
    {
     "data": {
      "text/plain": "   tfidf_ranking_rank_is_5_without_1 tfidf_ranking_rank_is_1_without_5\n18                 процентный ставка                 кредитный история\n22                       работа банк                  писать заявление\n23                   хотеть выразить                 кредитный договор\n25               пользоваться услуга                отделение сбербанк\n28                        мой вопрос                     мой заявление\n29                       банк москва                        мой деньга\n30                   кредитный лимит                     номер телефон\n40            выразить благодарность                 срок рассмотрение\n41                  огромный спасибо                      звонить банк\n42                          банк год                     вопрос почему\n47                     очень приятно              обратиться отделение\n49                      мочь сказать                        прийти смс\n52                    очень вежливый                      снять деньга\n55                         это очень                      взять кредит\n58                         друг банк                  зарплатный карта\n59                 очень понравиться                        два неделя\n60                  интернет банкинг                     карта который\n62                  ипотечный кредит                        счёт карта\n63                      брать кредит                   молодой человек\n67                  никакой проблема                     закрытие счёт",
      "text/html": "<div>\n<style scoped>\n    .dataframe tbody tr th:only-of-type {\n        vertical-align: middle;\n    }\n\n    .dataframe tbody tr th {\n        vertical-align: top;\n    }\n\n    .dataframe thead th {\n        text-align: right;\n    }\n</style>\n<table border=\"1\" class=\"dataframe\">\n  <thead>\n    <tr style=\"text-align: right;\">\n      <th></th>\n      <th>tfidf_ranking_rank_is_5_without_1</th>\n      <th>tfidf_ranking_rank_is_1_without_5</th>\n    </tr>\n  </thead>\n  <tbody>\n    <tr>\n      <th>18</th>\n      <td>процентный ставка</td>\n      <td>кредитный история</td>\n    </tr>\n    <tr>\n      <th>22</th>\n      <td>работа банк</td>\n      <td>писать заявление</td>\n    </tr>\n    <tr>\n      <th>23</th>\n      <td>хотеть выразить</td>\n      <td>кредитный договор</td>\n    </tr>\n    <tr>\n      <th>25</th>\n      <td>пользоваться услуга</td>\n      <td>отделение сбербанк</td>\n    </tr>\n    <tr>\n      <th>28</th>\n      <td>мой вопрос</td>\n      <td>мой заявление</td>\n    </tr>\n    <tr>\n      <th>29</th>\n      <td>банк москва</td>\n      <td>мой деньга</td>\n    </tr>\n    <tr>\n      <th>30</th>\n      <td>кредитный лимит</td>\n      <td>номер телефон</td>\n    </tr>\n    <tr>\n      <th>40</th>\n      <td>выразить благодарность</td>\n      <td>срок рассмотрение</td>\n    </tr>\n    <tr>\n      <th>41</th>\n      <td>огромный спасибо</td>\n      <td>звонить банк</td>\n    </tr>\n    <tr>\n      <th>42</th>\n      <td>банк год</td>\n      <td>вопрос почему</td>\n    </tr>\n    <tr>\n      <th>47</th>\n      <td>очень приятно</td>\n      <td>обратиться отделение</td>\n    </tr>\n    <tr>\n      <th>49</th>\n      <td>мочь сказать</td>\n      <td>прийти смс</td>\n    </tr>\n    <tr>\n      <th>52</th>\n      <td>очень вежливый</td>\n      <td>снять деньга</td>\n    </tr>\n    <tr>\n      <th>55</th>\n      <td>это очень</td>\n      <td>взять кредит</td>\n    </tr>\n    <tr>\n      <th>58</th>\n      <td>друг банк</td>\n      <td>зарплатный карта</td>\n    </tr>\n    <tr>\n      <th>59</th>\n      <td>очень понравиться</td>\n      <td>два неделя</td>\n    </tr>\n    <tr>\n      <th>60</th>\n      <td>интернет банкинг</td>\n      <td>карта который</td>\n    </tr>\n    <tr>\n      <th>62</th>\n      <td>ипотечный кредит</td>\n      <td>счёт карта</td>\n    </tr>\n    <tr>\n      <th>63</th>\n      <td>брать кредит</td>\n      <td>молодой человек</td>\n    </tr>\n    <tr>\n      <th>67</th>\n      <td>никакой проблема</td>\n      <td>закрытие счёт</td>\n    </tr>\n  </tbody>\n</table>\n</div>"
     },
     "execution_count": 66,
     "metadata": {},
     "output_type": "execute_result"
    }
   ],
   "source": [
    "rankings.iloc[:,-2:].dropna()"
   ],
   "metadata": {
    "collapsed": false,
    "pycharm": {
     "name": "#%%\n"
    }
   }
  },
  {
   "cell_type": "markdown",
   "source": [
    "## Часть 2. Тематическое моделирование"
   ],
   "metadata": {
    "collapsed": false,
    "pycharm": {
     "name": "#%% md\n"
    }
   }
  },
  {
   "cell_type": "markdown",
   "source": [
    "### 1. Постройте несколько тематических моделей коллекции документов с разным числом тем."
   ],
   "metadata": {
    "collapsed": false,
    "pycharm": {
     "name": "#%% md\n"
    }
   }
  },
  {
   "cell_type": "code",
   "execution_count": 4,
   "outputs": [],
   "source": [
    "import gensim.corpora as corpora\n",
    "from gensim.models import ldamodel"
   ],
   "metadata": {
    "collapsed": false,
    "pycharm": {
     "name": "#%%\n"
    }
   }
  },
  {
   "cell_type": "code",
   "execution_count": 5,
   "outputs": [],
   "source": [
    "texts = [df['lemmatized_text'].iloc[i].split() for i in range(len(df))]\n",
    "dictionary = corpora.Dictionary(texts)\n",
    "corpus = [dictionary.doc2bow(text) for text in texts]"
   ],
   "metadata": {
    "collapsed": false,
    "pycharm": {
     "name": "#%%\n"
    }
   }
  },
  {
   "cell_type": "code",
   "execution_count": null,
   "outputs": [],
   "source": [
    "lda1 = ldamodel.LdaModel(corpus=corpus,\n",
    "                        id2word=dictionary,\n",
    "                        num_topics=20,\n",
    "                        alpha='auto',\n",
    "                        eta='auto',\n",
    "                        iterations = 20,\n",
    "                        passes = 5)"
   ],
   "metadata": {
    "collapsed": false,
    "pycharm": {
     "name": "#%%\n"
    }
   }
  },
  {
   "cell_type": "code",
   "execution_count": null,
   "outputs": [],
   "source": [
    "# 20 тем, рандомная выборка 5\n",
    "lda1.show_topics(5)"
   ],
   "metadata": {
    "collapsed": false,
    "pycharm": {
     "name": "#%%\n"
    }
   }
  },
  {
   "cell_type": "markdown",
   "source": [
    "1. История справок по кридитованию\n",
    "2. Оплата услуг в Альфа банке\n",
    "3. Время ожидания в очереди в отделении банка\n",
    "4. Проблемы с обслуживанием клиентов\n",
    "5. Перезвонить через день"
   ],
   "metadata": {
    "collapsed": false,
    "pycharm": {
     "name": "#%% md\n"
    }
   }
  },
  {
   "cell_type": "code",
   "execution_count": 32,
   "outputs": [],
   "source": [
    "lda2 = ldamodel.LdaModel(corpus=corpus,\n",
    "                        id2word=dictionary,\n",
    "                        num_topics=50,\n",
    "                        alpha='auto',\n",
    "                        eta='auto',\n",
    "                        iterations = 20,\n",
    "                        passes = 5)"
   ],
   "metadata": {
    "collapsed": false,
    "pycharm": {
     "name": "#%%\n"
    }
   }
  },
  {
   "cell_type": "code",
   "execution_count": 33,
   "outputs": [
    {
     "data": {
      "text/plain": "[(13,\n  '0.069*\"страховка\" + 0.062*\"кредит\" + 0.042*\"страховой\" + 0.037*\"страхование\" + 0.030*\"компания\" + 0.019*\"кредитный\" + 0.018*\"оформление\" + 0.017*\"оформить\" + 0.017*\"банк\" + 0.016*\"сумма\"'),\n (20,\n  '0.183*\"терминал\" + 0.130*\"квитанция\" + 0.086*\"оплата\" + 0.066*\"оплатить\" + 0.063*\"мкб\" + 0.032*\"оплачивать\" + 0.029*\"коммунальный\" + 0.020*\"лист\" + 0.018*\"элекснуть\" + 0.017*\"чек\"'),\n (48,\n  '0.080*\"банк\" + 0.037*\"очень\" + 0.027*\"клиент\" + 0.016*\"работа\" + 0.014*\"обслуживание\" + 0.011*\"сотрудник\" + 0.011*\"быстро\" + 0.010*\"спасибо\" + 0.010*\"время\" + 0.010*\"хороший\"'),\n (9,\n  '0.042*\"сказать\" + 0.038*\"банк\" + 0.028*\"вопрос\" + 0.021*\"это\" + 0.020*\"который\" + 0.020*\"мочь\" + 0.019*\"сотрудник\" + 0.018*\"мой\" + 0.018*\"позвонить\" + 0.016*\"девушка\"'),\n (34,\n  '0.044*\"это\" + 0.015*\"такой\" + 0.015*\"банк\" + 0.013*\"просто\" + 0.013*\"свой\" + 0.012*\"который\" + 0.011*\"один\" + 0.010*\"быть\" + 0.010*\"всё\" + 0.010*\"деньга\"')]"
     },
     "execution_count": 33,
     "metadata": {},
     "output_type": "execute_result"
    }
   ],
   "source": [
    "# 20 тем, рандомная выборка 5\n",
    "lda2.show_topics(num_topics=5, num_words=10, formatted=True)"
   ],
   "metadata": {
    "collapsed": false,
    "pycharm": {
     "name": "#%%\n"
    }
   }
  },
  {
   "cell_type": "markdown",
   "source": [
    "6. Кредитное страхование\n",
    "7. Оплата комменалки в терминале\n",
    "8. Быстрое обслуживание\n",
    "9. Ночные звонки от сотрудников\n",
    "10. Все деньги в одном банке"
   ],
   "metadata": {
    "collapsed": false,
    "pycharm": {
     "name": "#%% md\n"
    }
   }
  },
  {
   "cell_type": "markdown",
   "source": [
    "### 2. Найдите темы, в которых упомянуты конкретные банки (Сбербанк, ВТБ, другой банк)."
   ],
   "metadata": {
    "collapsed": false,
    "pycharm": {
     "name": "#%% md\n"
    }
   }
  },
  {
   "cell_type": "code",
   "execution_count": 40,
   "outputs": [
    {
     "name": "stdout",
     "output_type": "stream",
     "text": [
      "(2, '0.366*\"сбербанк\" + 0.114*\"сбер\" + 0.061*\"онлайн\" + 0.057*\"отделение\" + 0.037*\"россия\" + 0.020*\"книжка\" + 0.020*\"бла\" + 0.019*\"сберкнижка\" + 0.015*\"пенсия\" + 0.015*\"осб\"')\n",
      "(5, '0.032*\"оценка\" + 0.030*\"минус\" + 0.028*\"ставить\" + 0.022*\"плюс\" + 0.019*\"авангард\" + 0.014*\"интернет\" + 0.014*\"поставить\" + 0.012*\"банк\" + 0.011*\"это\" + 0.011*\"например\"')\n",
      "(6, '0.115*\"штраф\" + 0.071*\"автокредит\" + 0.064*\"машина\" + 0.053*\"росбанк\" + 0.049*\"салон\" + 0.045*\"автомобиль\" + 0.042*\"го\" + 0.039*\"автосалон\" + 0.028*\"авто\" + 0.028*\"птс\"')\n",
      "(8, '0.084*\"банкомат\" + 0.071*\"офис\" + 0.069*\"работать\" + 0.023*\"город\" + 0.020*\"работа\" + 0.013*\"москва\" + 0.013*\"отделение\" + 0.011*\"находиться\" + 0.011*\"метро\" + 0.010*\"центральный\"')\n",
      "(14, '0.307*\"отделение\" + 0.137*\"центр\" + 0.053*\"колл\" + 0.026*\"москва\" + 0.022*\"информация\" + 0.021*\"оператор\" + 0.013*\"проспект\" + 0.012*\"справочный\" + 0.008*\"контакт\" + 0.007*\"сайт\"')\n",
      "(26, '0.071*\"альфа\" + 0.052*\"система\" + 0.050*\"втб\" + 0.049*\"интернет\" + 0.045*\"банк\" + 0.037*\"проблема\" + 0.017*\"операция\" + 0.017*\"телебанк\" + 0.016*\"альф\" + 0.015*\"ошибка\"')\n",
      "(28, '0.067*\"ренессанс\" + 0.059*\"капитал\" + 0.051*\"допофис\" + 0.050*\"ячейка\" + 0.024*\"мег\" + 0.023*\"телевизор\" + 0.017*\"роман\" + 0.016*\"рк\" + 0.016*\"южный\" + 0.015*\"инвестиционный\"')\n",
      "(30, '0.211*\"служба\" + 0.154*\"поддержка\" + 0.053*\"безопасность\" + 0.031*\"заблокировать\" + 0.020*\"блокировка\" + 0.019*\"кошелёк\" + 0.018*\"разблокировать\" + 0.015*\"клиентский\" + 0.013*\"ответ\" + 0.012*\"письмо\"')\n",
      "(32, '0.293*\"заявление\" + 0.077*\"написать\" + 0.064*\"счёт\" + 0.058*\"ситибанк\" + 0.043*\"закрытие\" + 0.040*\"сити\" + 0.036*\"отделение\" + 0.031*\"закрыть\" + 0.029*\"писать\" + 0.023*\"ситифон\"')\n",
      "(33, '0.096*\"г\" + 0.056*\"письмо\" + 0.050*\"адрес\" + 0.045*\"почта\" + 0.026*\"москва\" + 0.023*\"петербург\" + 0.023*\"электронный\" + 0.021*\"далее\" + 0.019*\"санкт\" + 0.019*\"ул\"')\n",
      "(35, '0.053*\"райффайзенбанк\" + 0.040*\"райффайзный\" + 0.034*\"притом\" + 0.029*\"брс\" + 0.022*\"жирный\" + 0.022*\"арбат\" + 0.015*\"европейский\" + 0.014*\"клерк\" + 0.014*\"коннект\" + 0.014*\"стенд\"')\n",
      "(40, '0.250*\"мы\" + 0.183*\"наш\" + 0.095*\"жена\" + 0.081*\"муж\" + 0.036*\"супруг\" + 0.028*\"уралсиб\" + 0.024*\"ирина\" + 0.018*\"сертификат\" + 0.016*\"прислать\" + 0.015*\"марина\"')\n"
     ]
    }
   ],
   "source": [
    "for topic in lda2.show_topics(num_topics=50):\n",
    "    if any(x in df['bank_name'].str.lower().unique() for x in [x.split('*')[1].strip().replace('\"', '') for x in topic[1].split('+')]):\n",
    "        print(topic)"
   ],
   "metadata": {
    "collapsed": false,
    "pycharm": {
     "name": "#%%\n"
    }
   }
  },
  {
   "cell_type": "markdown",
   "source": [
    "1. Пенсия на сберкнижке\n",
    "2. Оценка банка\n",
    "3. Штраф по автокредиту\n",
    "4. Работающий банкомат возле метро\n",
    "5. Справочная информация в колл центра и на сайте\n",
    "и т.д."
   ],
   "metadata": {
    "collapsed": false,
    "pycharm": {
     "name": "#%% md\n"
    }
   }
  },
  {
   "cell_type": "markdown",
   "source": [
    "## Часть 3. Классификация текстов"
   ],
   "metadata": {
    "collapsed": false,
    "pycharm": {
     "name": "#%% md\n"
    }
   }
  },
  {
   "cell_type": "markdown",
   "source": [
    "### Составьте обучающее и тестовое множество: выберите из всего набора данных N1 отзывов с оценкой 1 и N2 отзывов с оценкой 5 (значение N1 и N2 – на ваше усмотрение). Используйте sklearn.model_selection.train_test_split для разделения множества отобранных документов на обучающее и тестовое."
   ],
   "metadata": {
    "collapsed": false,
    "pycharm": {
     "name": "#%% md\n"
    }
   }
  },
  {
   "cell_type": "code",
   "execution_count": 13,
   "outputs": [],
   "source": [
    "from sklearn.model_selection import train_test_split, GridSearchCV, RandomizedSearchCV\n",
    "from sklearn.feature_extraction.text import TfidfTransformer\n",
    "from sklearn.decomposition import TruncatedSVD, LatentDirichletAllocation\n",
    "from sklearn.metrics import f1_score, accuracy_score, classification_report, confusion_matrix\n",
    "from sklearn.feature_extraction.text import CountVectorizer\n",
    "from sklearn.linear_model import LogisticRegression\n",
    "from sklearn.pipeline import Pipeline"
   ],
   "metadata": {
    "collapsed": false,
    "pycharm": {
     "name": "#%%\n"
    }
   }
  },
  {
   "cell_type": "code",
   "execution_count": 5,
   "outputs": [],
   "source": [
    "X = df_sample['lemmatized_text'].values\n",
    "y = df_sample.rating_grade.values"
   ],
   "metadata": {
    "collapsed": false,
    "pycharm": {
     "name": "#%%\n"
    }
   }
  },
  {
   "cell_type": "code",
   "execution_count": 6,
   "outputs": [],
   "source": [
    "X_train, X_test, y_train, y_test = train_test_split(X, y, test_size=0.25)"
   ],
   "metadata": {
    "collapsed": false,
    "pycharm": {
     "name": "#%%\n"
    }
   }
  },
  {
   "cell_type": "markdown",
   "source": [
    "### Используйте любой известный вам алгоритм классификации текстов для решения задачи и получите baseline. Сравните разные варианты векторизации текста: использование только униграм, пар или троек слов или с использованием символьных n-грам."
   ],
   "metadata": {
    "collapsed": false,
    "pycharm": {
     "name": "#%% md\n"
    }
   }
  },
  {
   "cell_type": "code",
   "execution_count": 14,
   "outputs": [],
   "source": [
    "clf_countvectorized = Pipeline(\n",
    "    [('vect', CountVectorizer()),\n",
    "     ('clf', LogisticRegression())]\n",
    ")\n",
    "\n",
    "params_cntv = {\n",
    "    'vect__analyzer': ['word','char'],\n",
    "    'vect__max_df': (0.5, 0.75, 1.0),\n",
    "    'vect__ngram_range': ((1, 1), (2, 2), (3, 3)),\n",
    "    'clf__C': np.logspace(-3,3,7),\n",
    "    'clf__penalty': ['l2']\n",
    "}\n",
    "\n",
    "scores=['accuracy', 'f1']"
   ],
   "metadata": {
    "collapsed": false,
    "pycharm": {
     "name": "#%%\n"
    }
   }
  },
  {
   "cell_type": "code",
   "execution_count": 15,
   "outputs": [],
   "source": [
    "grid_cntv = RandomizedSearchCV(\n",
    "    clf_countvectorized,\n",
    "    param_distributions=params_cntv,\n",
    "    cv=3,\n",
    "    scoring=scores,\n",
    "    refit=scores[0],\n",
    "    n_jobs=-1,\n",
    "    verbose=1\n",
    ")"
   ],
   "metadata": {
    "collapsed": false,
    "pycharm": {
     "name": "#%%\n"
    }
   }
  },
  {
   "cell_type": "code",
   "execution_count": 16,
   "outputs": [
    {
     "name": "stdout",
     "output_type": "stream",
     "text": [
      "Fitting 3 folds for each of 10 candidates, totalling 30 fits\n"
     ]
    },
    {
     "name": "stderr",
     "output_type": "stream",
     "text": [
      "C:\\Users\\a.pavlovskyi\\Anaconda3\\lib\\site-packages\\sklearn\\linear_model\\_logistic.py:444: ConvergenceWarning: lbfgs failed to converge (status=1):\n",
      "STOP: TOTAL NO. of ITERATIONS REACHED LIMIT.\n",
      "\n",
      "Increase the number of iterations (max_iter) or scale the data as shown in:\n",
      "    https://scikit-learn.org/stable/modules/preprocessing.html\n",
      "Please also refer to the documentation for alternative solver options:\n",
      "    https://scikit-learn.org/stable/modules/linear_model.html#logistic-regression\n",
      "  n_iter_i = _check_optimize_result(\n"
     ]
    },
    {
     "data": {
      "text/plain": "RandomizedSearchCV(cv=3,\n                   estimator=Pipeline(steps=[('vect', CountVectorizer()),\n                                             ('clf', LogisticRegression())]),\n                   n_jobs=-1,\n                   param_distributions={'clf__C': array([1.e-03, 1.e-02, 1.e-01, 1.e+00, 1.e+01, 1.e+02, 1.e+03]),\n                                        'clf__penalty': ['l2'],\n                                        'vect__analyzer': ['word', 'char'],\n                                        'vect__max_df': (0.5, 0.75, 1.0),\n                                        'vect__ngram_range': ((1, 1), (2, 2),\n                                                              (3, 3))},\n                   refit='accuracy', scoring=['accuracy', 'f1'], verbose=1)",
      "text/html": "<style>#sk-container-id-1 {color: black;background-color: white;}#sk-container-id-1 pre{padding: 0;}#sk-container-id-1 div.sk-toggleable {background-color: white;}#sk-container-id-1 label.sk-toggleable__label {cursor: pointer;display: block;width: 100%;margin-bottom: 0;padding: 0.3em;box-sizing: border-box;text-align: center;}#sk-container-id-1 label.sk-toggleable__label-arrow:before {content: \"▸\";float: left;margin-right: 0.25em;color: #696969;}#sk-container-id-1 label.sk-toggleable__label-arrow:hover:before {color: black;}#sk-container-id-1 div.sk-estimator:hover label.sk-toggleable__label-arrow:before {color: black;}#sk-container-id-1 div.sk-toggleable__content {max-height: 0;max-width: 0;overflow: hidden;text-align: left;background-color: #f0f8ff;}#sk-container-id-1 div.sk-toggleable__content pre {margin: 0.2em;color: black;border-radius: 0.25em;background-color: #f0f8ff;}#sk-container-id-1 input.sk-toggleable__control:checked~div.sk-toggleable__content {max-height: 200px;max-width: 100%;overflow: auto;}#sk-container-id-1 input.sk-toggleable__control:checked~label.sk-toggleable__label-arrow:before {content: \"▾\";}#sk-container-id-1 div.sk-estimator input.sk-toggleable__control:checked~label.sk-toggleable__label {background-color: #d4ebff;}#sk-container-id-1 div.sk-label input.sk-toggleable__control:checked~label.sk-toggleable__label {background-color: #d4ebff;}#sk-container-id-1 input.sk-hidden--visually {border: 0;clip: rect(1px 1px 1px 1px);clip: rect(1px, 1px, 1px, 1px);height: 1px;margin: -1px;overflow: hidden;padding: 0;position: absolute;width: 1px;}#sk-container-id-1 div.sk-estimator {font-family: monospace;background-color: #f0f8ff;border: 1px dotted black;border-radius: 0.25em;box-sizing: border-box;margin-bottom: 0.5em;}#sk-container-id-1 div.sk-estimator:hover {background-color: #d4ebff;}#sk-container-id-1 div.sk-parallel-item::after {content: \"\";width: 100%;border-bottom: 1px solid gray;flex-grow: 1;}#sk-container-id-1 div.sk-label:hover label.sk-toggleable__label {background-color: #d4ebff;}#sk-container-id-1 div.sk-serial::before {content: \"\";position: absolute;border-left: 1px solid gray;box-sizing: border-box;top: 0;bottom: 0;left: 50%;z-index: 0;}#sk-container-id-1 div.sk-serial {display: flex;flex-direction: column;align-items: center;background-color: white;padding-right: 0.2em;padding-left: 0.2em;position: relative;}#sk-container-id-1 div.sk-item {position: relative;z-index: 1;}#sk-container-id-1 div.sk-parallel {display: flex;align-items: stretch;justify-content: center;background-color: white;position: relative;}#sk-container-id-1 div.sk-item::before, #sk-container-id-1 div.sk-parallel-item::before {content: \"\";position: absolute;border-left: 1px solid gray;box-sizing: border-box;top: 0;bottom: 0;left: 50%;z-index: -1;}#sk-container-id-1 div.sk-parallel-item {display: flex;flex-direction: column;z-index: 1;position: relative;background-color: white;}#sk-container-id-1 div.sk-parallel-item:first-child::after {align-self: flex-end;width: 50%;}#sk-container-id-1 div.sk-parallel-item:last-child::after {align-self: flex-start;width: 50%;}#sk-container-id-1 div.sk-parallel-item:only-child::after {width: 0;}#sk-container-id-1 div.sk-dashed-wrapped {border: 1px dashed gray;margin: 0 0.4em 0.5em 0.4em;box-sizing: border-box;padding-bottom: 0.4em;background-color: white;}#sk-container-id-1 div.sk-label label {font-family: monospace;font-weight: bold;display: inline-block;line-height: 1.2em;}#sk-container-id-1 div.sk-label-container {text-align: center;}#sk-container-id-1 div.sk-container {/* jupyter's `normalize.less` sets `[hidden] { display: none; }` but bootstrap.min.css set `[hidden] { display: none !important; }` so we also need the `!important` here to be able to override the default hidden behavior on the sphinx rendered scikit-learn.org. See: https://github.com/scikit-learn/scikit-learn/issues/21755 */display: inline-block !important;position: relative;}#sk-container-id-1 div.sk-text-repr-fallback {display: none;}</style><div id=\"sk-container-id-1\" class=\"sk-top-container\"><div class=\"sk-text-repr-fallback\"><pre>RandomizedSearchCV(cv=3,\n                   estimator=Pipeline(steps=[(&#x27;vect&#x27;, CountVectorizer()),\n                                             (&#x27;clf&#x27;, LogisticRegression())]),\n                   n_jobs=-1,\n                   param_distributions={&#x27;clf__C&#x27;: array([1.e-03, 1.e-02, 1.e-01, 1.e+00, 1.e+01, 1.e+02, 1.e+03]),\n                                        &#x27;clf__penalty&#x27;: [&#x27;l2&#x27;],\n                                        &#x27;vect__analyzer&#x27;: [&#x27;word&#x27;, &#x27;char&#x27;],\n                                        &#x27;vect__max_df&#x27;: (0.5, 0.75, 1.0),\n                                        &#x27;vect__ngram_range&#x27;: ((1, 1), (2, 2),\n                                                              (3, 3))},\n                   refit=&#x27;accuracy&#x27;, scoring=[&#x27;accuracy&#x27;, &#x27;f1&#x27;], verbose=1)</pre><b>In a Jupyter environment, please rerun this cell to show the HTML representation or trust the notebook. <br />On GitHub, the HTML representation is unable to render, please try loading this page with nbviewer.org.</b></div><div class=\"sk-container\" hidden><div class=\"sk-item sk-dashed-wrapped\"><div class=\"sk-label-container\"><div class=\"sk-label sk-toggleable\"><input class=\"sk-toggleable__control sk-hidden--visually\" id=\"sk-estimator-id-1\" type=\"checkbox\" ><label for=\"sk-estimator-id-1\" class=\"sk-toggleable__label sk-toggleable__label-arrow\">RandomizedSearchCV</label><div class=\"sk-toggleable__content\"><pre>RandomizedSearchCV(cv=3,\n                   estimator=Pipeline(steps=[(&#x27;vect&#x27;, CountVectorizer()),\n                                             (&#x27;clf&#x27;, LogisticRegression())]),\n                   n_jobs=-1,\n                   param_distributions={&#x27;clf__C&#x27;: array([1.e-03, 1.e-02, 1.e-01, 1.e+00, 1.e+01, 1.e+02, 1.e+03]),\n                                        &#x27;clf__penalty&#x27;: [&#x27;l2&#x27;],\n                                        &#x27;vect__analyzer&#x27;: [&#x27;word&#x27;, &#x27;char&#x27;],\n                                        &#x27;vect__max_df&#x27;: (0.5, 0.75, 1.0),\n                                        &#x27;vect__ngram_range&#x27;: ((1, 1), (2, 2),\n                                                              (3, 3))},\n                   refit=&#x27;accuracy&#x27;, scoring=[&#x27;accuracy&#x27;, &#x27;f1&#x27;], verbose=1)</pre></div></div></div><div class=\"sk-parallel\"><div class=\"sk-parallel-item\"><div class=\"sk-item\"><div class=\"sk-label-container\"><div class=\"sk-label sk-toggleable\"><input class=\"sk-toggleable__control sk-hidden--visually\" id=\"sk-estimator-id-2\" type=\"checkbox\" ><label for=\"sk-estimator-id-2\" class=\"sk-toggleable__label sk-toggleable__label-arrow\">estimator: Pipeline</label><div class=\"sk-toggleable__content\"><pre>Pipeline(steps=[(&#x27;vect&#x27;, CountVectorizer()), (&#x27;clf&#x27;, LogisticRegression())])</pre></div></div></div><div class=\"sk-serial\"><div class=\"sk-item\"><div class=\"sk-serial\"><div class=\"sk-item\"><div class=\"sk-estimator sk-toggleable\"><input class=\"sk-toggleable__control sk-hidden--visually\" id=\"sk-estimator-id-3\" type=\"checkbox\" ><label for=\"sk-estimator-id-3\" class=\"sk-toggleable__label sk-toggleable__label-arrow\">CountVectorizer</label><div class=\"sk-toggleable__content\"><pre>CountVectorizer()</pre></div></div></div><div class=\"sk-item\"><div class=\"sk-estimator sk-toggleable\"><input class=\"sk-toggleable__control sk-hidden--visually\" id=\"sk-estimator-id-4\" type=\"checkbox\" ><label for=\"sk-estimator-id-4\" class=\"sk-toggleable__label sk-toggleable__label-arrow\">LogisticRegression</label><div class=\"sk-toggleable__content\"><pre>LogisticRegression()</pre></div></div></div></div></div></div></div></div></div></div></div></div>"
     },
     "execution_count": 16,
     "metadata": {},
     "output_type": "execute_result"
    }
   ],
   "source": [
    "grid_cntv.fit(X_train, y_train)"
   ],
   "metadata": {
    "collapsed": false,
    "pycharm": {
     "name": "#%%\n"
    }
   }
  },
  {
   "cell_type": "code",
   "execution_count": 17,
   "outputs": [
    {
     "name": "stdout",
     "output_type": "stream",
     "text": [
      "Best score: 0.941\n"
     ]
    }
   ],
   "source": [
    "print(\"Best score: %0.3f\" % grid_cntv.best_score_)"
   ],
   "metadata": {
    "collapsed": false,
    "pycharm": {
     "name": "#%%\n"
    }
   }
  },
  {
   "cell_type": "code",
   "execution_count": 18,
   "outputs": [],
   "source": [
    "predictions=grid_cntv.best_estimator_.predict(X_test)"
   ],
   "metadata": {
    "collapsed": false,
    "pycharm": {
     "name": "#%%\n"
    }
   }
  },
  {
   "cell_type": "code",
   "execution_count": 19,
   "outputs": [
    {
     "name": "stdout",
     "output_type": "stream",
     "text": [
      "              precision    recall  f1-score   support\n",
      "\n",
      "         1.0       0.95      0.95      0.95      2522\n",
      "         5.0       0.95      0.95      0.95      2478\n",
      "\n",
      "    accuracy                           0.95      5000\n",
      "   macro avg       0.95      0.95      0.95      5000\n",
      "weighted avg       0.95      0.95      0.95      5000\n",
      "\n"
     ]
    }
   ],
   "source": [
    "print(classification_report(y_test, predictions))"
   ],
   "metadata": {
    "collapsed": false,
    "pycharm": {
     "name": "#%%\n"
    }
   }
  },
  {
   "cell_type": "code",
   "execution_count": 20,
   "outputs": [
    {
     "data": {
      "text/plain": "<Figure size 432x288 with 1 Axes>",
      "image/png": "[encoded data removed]"
     },
     "metadata": {
      "needs_background": "light"
     },
     "output_type": "display_data"
    }
   ],
   "source": [
    "labels = grid_cntv.best_estimator_.classes_\n",
    "\n",
    "sns.heatmap(\n",
    "    data=confusion_matrix(y_test, predictions),\n",
    "    annot=True,\n",
    "    fmt=\"d\",\n",
    "    cbar=False,\n",
    "    xticklabels=labels,\n",
    "    yticklabels=labels\n",
    ")\n",
    "\n",
    "plt.title(\"Confusion matrix\")\n",
    "plt.show()"
   ],
   "metadata": {
    "collapsed": false,
    "pycharm": {
     "name": "#%%\n"
    }
   }
  },
  {
   "cell_type": "markdown",
   "source": [
    "### Сравните, как изменяется качество решения задачи при использовании скрытых тем в качестве признаков"
   ],
   "metadata": {
    "collapsed": false,
    "pycharm": {
     "name": "#%% md\n"
    }
   }
  },
  {
   "cell_type": "markdown",
   "source": [
    "#### 1-ый вариант: tf-idf преобразование и сингулярное разложение (оно же – латентый семантический анализ)"
   ],
   "metadata": {
    "collapsed": false,
    "pycharm": {
     "name": "#%% md\n"
    }
   }
  },
  {
   "cell_type": "markdown",
   "source": [
    "##### tf-idf"
   ],
   "metadata": {
    "collapsed": false,
    "pycharm": {
     "name": "#%% md\n"
    }
   }
  },
  {
   "cell_type": "code",
   "execution_count": 25,
   "outputs": [],
   "source": [
    "clf_tf_idf = Pipeline(\n",
    "    [('vect', CountVectorizer()),\n",
    "     ('tfidf', TfidfTransformer()),\n",
    "     ('clf', LogisticRegression())]\n",
    ")\n",
    "\n",
    "params_tf_idf={\n",
    "    'vect__analyzer': ['word'],\n",
    "    'vect__max_df': (0.5, 0.75, 1.0),\n",
    "    'vect__ngram_range': [(1, 1), (2, 2), (3, 3)],\n",
    "    'tfidf__use_idf': (True, False),\n",
    "    'clf__C': np.logspace(-3, 3, 7),\n",
    "    'clf__penalty': ['l2']\n",
    "}\n",
    "\n",
    "scores=['accuracy','f1']"
   ],
   "metadata": {
    "collapsed": false,
    "pycharm": {
     "name": "#%%\n"
    }
   }
  },
  {
   "cell_type": "code",
   "execution_count": 26,
   "outputs": [],
   "source": [
    "grid_tf_idf = RandomizedSearchCV(\n",
    "    clf_tf_idf,\n",
    "    param_distributions=params_tf_idf,\n",
    "    cv=3,\n",
    "    scoring=scores,\n",
    "    refit=scores[0],\n",
    "    n_jobs=-1,\n",
    "    verbose=1\n",
    ")"
   ],
   "metadata": {
    "collapsed": false,
    "pycharm": {
     "name": "#%%\n"
    }
   }
  },
  {
   "cell_type": "code",
   "execution_count": 27,
   "outputs": [
    {
     "name": "stdout",
     "output_type": "stream",
     "text": [
      "Fitting 3 folds for each of 10 candidates, totalling 30 fits\n"
     ]
    },
    {
     "name": "stderr",
     "output_type": "stream",
     "text": [
      "C:\\Users\\a.pavlovskyi\\Anaconda3\\lib\\site-packages\\sklearn\\linear_model\\_logistic.py:444: ConvergenceWarning: lbfgs failed to converge (status=1):\n",
      "STOP: TOTAL NO. of ITERATIONS REACHED LIMIT.\n",
      "\n",
      "Increase the number of iterations (max_iter) or scale the data as shown in:\n",
      "    https://scikit-learn.org/stable/modules/preprocessing.html\n",
      "Please also refer to the documentation for alternative solver options:\n",
      "    https://scikit-learn.org/stable/modules/linear_model.html#logistic-regression\n",
      "  n_iter_i = _check_optimize_result(\n"
     ]
    },
    {
     "data": {
      "text/plain": "RandomizedSearchCV(cv=3,\n                   estimator=Pipeline(steps=[('vect', CountVectorizer()),\n                                             ('tfidf', TfidfTransformer()),\n                                             ('clf', LogisticRegression())]),\n                   n_jobs=-1,\n                   param_distributions={'clf__C': array([1.e-03, 1.e-02, 1.e-01, 1.e+00, 1.e+01, 1.e+02, 1.e+03]),\n                                        'clf__penalty': ['l2'],\n                                        'tfidf__use_idf': (True, False),\n                                        'vect__analyzer': ['word'],\n                                        'vect__max_df': (0.5, 0.75, 1.0),\n                                        'vect__ngram_range': [(1, 1), (2, 2),\n                                                              (3, 3)]},\n                   refit='accuracy', scoring=['accuracy', 'f1'], verbose=1)",
      "text/html": "<style>#sk-container-id-3 {color: black;background-color: white;}#sk-container-id-3 pre{padding: 0;}#sk-container-id-3 div.sk-toggleable {background-color: white;}#sk-container-id-3 label.sk-toggleable__label {cursor: pointer;display: block;width: 100%;margin-bottom: 0;padding: 0.3em;box-sizing: border-box;text-align: center;}#sk-container-id-3 label.sk-toggleable__label-arrow:before {content: \"▸\";float: left;margin-right: 0.25em;color: #696969;}#sk-container-id-3 label.sk-toggleable__label-arrow:hover:before {color: black;}#sk-container-id-3 div.sk-estimator:hover label.sk-toggleable__label-arrow:before {color: black;}#sk-container-id-3 div.sk-toggleable__content {max-height: 0;max-width: 0;overflow: hidden;text-align: left;background-color: #f0f8ff;}#sk-container-id-3 div.sk-toggleable__content pre {margin: 0.2em;color: black;border-radius: 0.25em;background-color: #f0f8ff;}#sk-container-id-3 input.sk-toggleable__control:checked~div.sk-toggleable__content {max-height: 200px;max-width: 100%;overflow: auto;}#sk-container-id-3 input.sk-toggleable__control:checked~label.sk-toggleable__label-arrow:before {content: \"▾\";}#sk-container-id-3 div.sk-estimator input.sk-toggleable__control:checked~label.sk-toggleable__label {background-color: #d4ebff;}#sk-container-id-3 div.sk-label input.sk-toggleable__control:checked~label.sk-toggleable__label {background-color: #d4ebff;}#sk-container-id-3 input.sk-hidden--visually {border: 0;clip: rect(1px 1px 1px 1px);clip: rect(1px, 1px, 1px, 1px);height: 1px;margin: -1px;overflow: hidden;padding: 0;position: absolute;width: 1px;}#sk-container-id-3 div.sk-estimator {font-family: monospace;background-color: #f0f8ff;border: 1px dotted black;border-radius: 0.25em;box-sizing: border-box;margin-bottom: 0.5em;}#sk-container-id-3 div.sk-estimator:hover {background-color: #d4ebff;}#sk-container-id-3 div.sk-parallel-item::after {content: \"\";width: 100%;border-bottom: 1px solid gray;flex-grow: 1;}#sk-container-id-3 div.sk-label:hover label.sk-toggleable__label {background-color: #d4ebff;}#sk-container-id-3 div.sk-serial::before {content: \"\";position: absolute;border-left: 1px solid gray;box-sizing: border-box;top: 0;bottom: 0;left: 50%;z-index: 0;}#sk-container-id-3 div.sk-serial {display: flex;flex-direction: column;align-items: center;background-color: white;padding-right: 0.2em;padding-left: 0.2em;position: relative;}#sk-container-id-3 div.sk-item {position: relative;z-index: 1;}#sk-container-id-3 div.sk-parallel {display: flex;align-items: stretch;justify-content: center;background-color: white;position: relative;}#sk-container-id-3 div.sk-item::before, #sk-container-id-3 div.sk-parallel-item::before {content: \"\";position: absolute;border-left: 1px solid gray;box-sizing: border-box;top: 0;bottom: 0;left: 50%;z-index: -1;}#sk-container-id-3 div.sk-parallel-item {display: flex;flex-direction: column;z-index: 1;position: relative;background-color: white;}#sk-container-id-3 div.sk-parallel-item:first-child::after {align-self: flex-end;width: 50%;}#sk-container-id-3 div.sk-parallel-item:last-child::after {align-self: flex-start;width: 50%;}#sk-container-id-3 div.sk-parallel-item:only-child::after {width: 0;}#sk-container-id-3 div.sk-dashed-wrapped {border: 1px dashed gray;margin: 0 0.4em 0.5em 0.4em;box-sizing: border-box;padding-bottom: 0.4em;background-color: white;}#sk-container-id-3 div.sk-label label {font-family: monospace;font-weight: bold;display: inline-block;line-height: 1.2em;}#sk-container-id-3 div.sk-label-container {text-align: center;}#sk-container-id-3 div.sk-container {/* jupyter's `normalize.less` sets `[hidden] { display: none; }` but bootstrap.min.css set `[hidden] { display: none !important; }` so we also need the `!important` here to be able to override the default hidden behavior on the sphinx rendered scikit-learn.org. See: https://github.com/scikit-learn/scikit-learn/issues/21755 */display: inline-block !important;position: relative;}#sk-container-id-3 div.sk-text-repr-fallback {display: none;}</style><div id=\"sk-container-id-3\" class=\"sk-top-container\"><div class=\"sk-text-repr-fallback\"><pre>RandomizedSearchCV(cv=3,\n                   estimator=Pipeline(steps=[(&#x27;vect&#x27;, CountVectorizer()),\n                                             (&#x27;tfidf&#x27;, TfidfTransformer()),\n                                             (&#x27;clf&#x27;, LogisticRegression())]),\n                   n_jobs=-1,\n                   param_distributions={&#x27;clf__C&#x27;: array([1.e-03, 1.e-02, 1.e-01, 1.e+00, 1.e+01, 1.e+02, 1.e+03]),\n                                        &#x27;clf__penalty&#x27;: [&#x27;l2&#x27;],\n                                        &#x27;tfidf__use_idf&#x27;: (True, False),\n                                        &#x27;vect__analyzer&#x27;: [&#x27;word&#x27;],\n                                        &#x27;vect__max_df&#x27;: (0.5, 0.75, 1.0),\n                                        &#x27;vect__ngram_range&#x27;: [(1, 1), (2, 2),\n                                                              (3, 3)]},\n                   refit=&#x27;accuracy&#x27;, scoring=[&#x27;accuracy&#x27;, &#x27;f1&#x27;], verbose=1)</pre><b>In a Jupyter environment, please rerun this cell to show the HTML representation or trust the notebook. <br />On GitHub, the HTML representation is unable to render, please try loading this page with nbviewer.org.</b></div><div class=\"sk-container\" hidden><div class=\"sk-item sk-dashed-wrapped\"><div class=\"sk-label-container\"><div class=\"sk-label sk-toggleable\"><input class=\"sk-toggleable__control sk-hidden--visually\" id=\"sk-estimator-id-10\" type=\"checkbox\" ><label for=\"sk-estimator-id-10\" class=\"sk-toggleable__label sk-toggleable__label-arrow\">RandomizedSearchCV</label><div class=\"sk-toggleable__content\"><pre>RandomizedSearchCV(cv=3,\n                   estimator=Pipeline(steps=[(&#x27;vect&#x27;, CountVectorizer()),\n                                             (&#x27;tfidf&#x27;, TfidfTransformer()),\n                                             (&#x27;clf&#x27;, LogisticRegression())]),\n                   n_jobs=-1,\n                   param_distributions={&#x27;clf__C&#x27;: array([1.e-03, 1.e-02, 1.e-01, 1.e+00, 1.e+01, 1.e+02, 1.e+03]),\n                                        &#x27;clf__penalty&#x27;: [&#x27;l2&#x27;],\n                                        &#x27;tfidf__use_idf&#x27;: (True, False),\n                                        &#x27;vect__analyzer&#x27;: [&#x27;word&#x27;],\n                                        &#x27;vect__max_df&#x27;: (0.5, 0.75, 1.0),\n                                        &#x27;vect__ngram_range&#x27;: [(1, 1), (2, 2),\n                                                              (3, 3)]},\n                   refit=&#x27;accuracy&#x27;, scoring=[&#x27;accuracy&#x27;, &#x27;f1&#x27;], verbose=1)</pre></div></div></div><div class=\"sk-parallel\"><div class=\"sk-parallel-item\"><div class=\"sk-item\"><div class=\"sk-label-container\"><div class=\"sk-label sk-toggleable\"><input class=\"sk-toggleable__control sk-hidden--visually\" id=\"sk-estimator-id-11\" type=\"checkbox\" ><label for=\"sk-estimator-id-11\" class=\"sk-toggleable__label sk-toggleable__label-arrow\">estimator: Pipeline</label><div class=\"sk-toggleable__content\"><pre>Pipeline(steps=[(&#x27;vect&#x27;, CountVectorizer()), (&#x27;tfidf&#x27;, TfidfTransformer()),\n                (&#x27;clf&#x27;, LogisticRegression())])</pre></div></div></div><div class=\"sk-serial\"><div class=\"sk-item\"><div class=\"sk-serial\"><div class=\"sk-item\"><div class=\"sk-estimator sk-toggleable\"><input class=\"sk-toggleable__control sk-hidden--visually\" id=\"sk-estimator-id-12\" type=\"checkbox\" ><label for=\"sk-estimator-id-12\" class=\"sk-toggleable__label sk-toggleable__label-arrow\">CountVectorizer</label><div class=\"sk-toggleable__content\"><pre>CountVectorizer()</pre></div></div></div><div class=\"sk-item\"><div class=\"sk-estimator sk-toggleable\"><input class=\"sk-toggleable__control sk-hidden--visually\" id=\"sk-estimator-id-13\" type=\"checkbox\" ><label for=\"sk-estimator-id-13\" class=\"sk-toggleable__label sk-toggleable__label-arrow\">TfidfTransformer</label><div class=\"sk-toggleable__content\"><pre>TfidfTransformer()</pre></div></div></div><div class=\"sk-item\"><div class=\"sk-estimator sk-toggleable\"><input class=\"sk-toggleable__control sk-hidden--visually\" id=\"sk-estimator-id-14\" type=\"checkbox\" ><label for=\"sk-estimator-id-14\" class=\"sk-toggleable__label sk-toggleable__label-arrow\">LogisticRegression</label><div class=\"sk-toggleable__content\"><pre>LogisticRegression()</pre></div></div></div></div></div></div></div></div></div></div></div></div>"
     },
     "execution_count": 27,
     "metadata": {},
     "output_type": "execute_result"
    }
   ],
   "source": [
    "grid_tf_idf.fit(X_train, y_train)"
   ],
   "metadata": {
    "collapsed": false,
    "pycharm": {
     "name": "#%%\n"
    }
   }
  },
  {
   "cell_type": "code",
   "execution_count": 28,
   "outputs": [
    {
     "name": "stdout",
     "output_type": "stream",
     "text": [
      "Best score: 0.946\n"
     ]
    }
   ],
   "source": [
    "# print(grid_tf_idf.best_estimator_)\n",
    "print(\"Best score: %0.3f\" % grid_tf_idf.best_score_)"
   ],
   "metadata": {
    "collapsed": false,
    "pycharm": {
     "name": "#%%\n"
    }
   }
  },
  {
   "cell_type": "code",
   "execution_count": 29,
   "outputs": [],
   "source": [
    "predictions=grid_tf_idf.best_estimator_.predict(X_test)"
   ],
   "metadata": {
    "collapsed": false,
    "pycharm": {
     "name": "#%%\n"
    }
   }
  },
  {
   "cell_type": "code",
   "execution_count": 30,
   "outputs": [
    {
     "name": "stdout",
     "output_type": "stream",
     "text": [
      "              precision    recall  f1-score   support\n",
      "\n",
      "         1.0       0.94      0.97      0.95      2522\n",
      "         5.0       0.96      0.94      0.95      2478\n",
      "\n",
      "    accuracy                           0.95      5000\n",
      "   macro avg       0.95      0.95      0.95      5000\n",
      "weighted avg       0.95      0.95      0.95      5000\n",
      "\n"
     ]
    }
   ],
   "source": [
    "print(classification_report(y_test, predictions))"
   ],
   "metadata": {
    "collapsed": false,
    "pycharm": {
     "name": "#%%\n"
    }
   }
  },
  {
   "cell_type": "code",
   "execution_count": 31,
   "outputs": [
    {
     "data": {
      "text/plain": "<Figure size 432x288 with 1 Axes>",
      "image/png": "[encoded data removed]"
     },
     "metadata": {
      "needs_background": "light"
     },
     "output_type": "display_data"
    }
   ],
   "source": [
    "labels = grid_tf_idf.best_estimator_.classes_\n",
    "\n",
    "sns.heatmap(\n",
    "    data=confusion_matrix(y_test, predictions),\n",
    "    annot=True,\n",
    "    fmt=\"d\",\n",
    "    cbar=False,\n",
    "    xticklabels=labels,\n",
    "    yticklabels=labels\n",
    ")\n",
    "\n",
    "plt.title(\"Confusion matrix\")\n",
    "plt.show()"
   ],
   "metadata": {
    "collapsed": false,
    "pycharm": {
     "name": "#%%\n"
    }
   }
  },
  {
   "cell_type": "markdown",
   "source": [
    "##### Cингулярное разложение"
   ],
   "metadata": {
    "collapsed": false,
    "pycharm": {
     "name": "#%% md\n"
    }
   }
  },
  {
   "cell_type": "code",
   "execution_count": 34,
   "outputs": [],
   "source": [
    "clf_tf_idf_TruncatedSVD = Pipeline(\n",
    "    [('vect', CountVectorizer()),\n",
    "     ('tfidf', TfidfTransformer()),\n",
    "     ('tsvd', TruncatedSVD()),\n",
    "     ('clf', LogisticRegression())]\n",
    ")\n",
    "\n",
    "params_tf_idf_TruncatedSVD={\n",
    "    'vect__analyzer': ['word'],\n",
    "    'vect__ngram_range': [(1, 1), (2, 2), (3, 3)],\n",
    "    'tsvd__n_components': [5, 10, 25, 50, 100],\n",
    "    'clf__C': np.logspace(-3, 3, 7),\n",
    "    'clf__penalty': ['l2']\n",
    "}\n",
    "\n",
    "scores=['accuracy','f1']"
   ],
   "metadata": {
    "collapsed": false,
    "pycharm": {
     "name": "#%%\n"
    }
   }
  },
  {
   "cell_type": "code",
   "execution_count": 38,
   "outputs": [],
   "source": [
    "grid_tf_idf_TruncatedSVD = RandomizedSearchCV(\n",
    "    clf_tf_idf_TruncatedSVD,\n",
    "    param_distributions=params_tf_idf_TruncatedSVD,\n",
    "    cv=3,\n",
    "    scoring=scores,\n",
    "    refit=scores[0],\n",
    "    n_jobs=-1,\n",
    "    verbose=1\n",
    ")"
   ],
   "metadata": {
    "collapsed": false,
    "pycharm": {
     "name": "#%%\n"
    }
   }
  },
  {
   "cell_type": "code",
   "execution_count": 39,
   "outputs": [
    {
     "name": "stdout",
     "output_type": "stream",
     "text": [
      "Fitting 3 folds for each of 10 candidates, totalling 30 fits\n"
     ]
    },
    {
     "data": {
      "text/plain": "RandomizedSearchCV(cv=3,\n                   estimator=Pipeline(steps=[('vect', CountVectorizer()),\n                                             ('tfidf', TfidfTransformer()),\n                                             ('tsvd', TruncatedSVD()),\n                                             ('clf', LogisticRegression())]),\n                   n_jobs=-1,\n                   param_distributions={'clf__C': array([1.e-03, 1.e-02, 1.e-01, 1.e+00, 1.e+01, 1.e+02, 1.e+03]),\n                                        'clf__penalty': ['l2'],\n                                        'tsvd__n_components': [5, 10, 25, 50,\n                                                               100],\n                                        'vect__analyzer': ['word'],\n                                        'vect__ngram_range': [(1, 1), (2, 2),\n                                                              (3, 3)]},\n                   refit='accuracy', scoring=['accuracy', 'f1'], verbose=1)",
      "text/html": "<style>#sk-container-id-4 {color: black;background-color: white;}#sk-container-id-4 pre{padding: 0;}#sk-container-id-4 div.sk-toggleable {background-color: white;}#sk-container-id-4 label.sk-toggleable__label {cursor: pointer;display: block;width: 100%;margin-bottom: 0;padding: 0.3em;box-sizing: border-box;text-align: center;}#sk-container-id-4 label.sk-toggleable__label-arrow:before {content: \"▸\";float: left;margin-right: 0.25em;color: #696969;}#sk-container-id-4 label.sk-toggleable__label-arrow:hover:before {color: black;}#sk-container-id-4 div.sk-estimator:hover label.sk-toggleable__label-arrow:before {color: black;}#sk-container-id-4 div.sk-toggleable__content {max-height: 0;max-width: 0;overflow: hidden;text-align: left;background-color: #f0f8ff;}#sk-container-id-4 div.sk-toggleable__content pre {margin: 0.2em;color: black;border-radius: 0.25em;background-color: #f0f8ff;}#sk-container-id-4 input.sk-toggleable__control:checked~div.sk-toggleable__content {max-height: 200px;max-width: 100%;overflow: auto;}#sk-container-id-4 input.sk-toggleable__control:checked~label.sk-toggleable__label-arrow:before {content: \"▾\";}#sk-container-id-4 div.sk-estimator input.sk-toggleable__control:checked~label.sk-toggleable__label {background-color: #d4ebff;}#sk-container-id-4 div.sk-label input.sk-toggleable__control:checked~label.sk-toggleable__label {background-color: #d4ebff;}#sk-container-id-4 input.sk-hidden--visually {border: 0;clip: rect(1px 1px 1px 1px);clip: rect(1px, 1px, 1px, 1px);height: 1px;margin: -1px;overflow: hidden;padding: 0;position: absolute;width: 1px;}#sk-container-id-4 div.sk-estimator {font-family: monospace;background-color: #f0f8ff;border: 1px dotted black;border-radius: 0.25em;box-sizing: border-box;margin-bottom: 0.5em;}#sk-container-id-4 div.sk-estimator:hover {background-color: #d4ebff;}#sk-container-id-4 div.sk-parallel-item::after {content: \"\";width: 100%;border-bottom: 1px solid gray;flex-grow: 1;}#sk-container-id-4 div.sk-label:hover label.sk-toggleable__label {background-color: #d4ebff;}#sk-container-id-4 div.sk-serial::before {content: \"\";position: absolute;border-left: 1px solid gray;box-sizing: border-box;top: 0;bottom: 0;left: 50%;z-index: 0;}#sk-container-id-4 div.sk-serial {display: flex;flex-direction: column;align-items: center;background-color: white;padding-right: 0.2em;padding-left: 0.2em;position: relative;}#sk-container-id-4 div.sk-item {position: relative;z-index: 1;}#sk-container-id-4 div.sk-parallel {display: flex;align-items: stretch;justify-content: center;background-color: white;position: relative;}#sk-container-id-4 div.sk-item::before, #sk-container-id-4 div.sk-parallel-item::before {content: \"\";position: absolute;border-left: 1px solid gray;box-sizing: border-box;top: 0;bottom: 0;left: 50%;z-index: -1;}#sk-container-id-4 div.sk-parallel-item {display: flex;flex-direction: column;z-index: 1;position: relative;background-color: white;}#sk-container-id-4 div.sk-parallel-item:first-child::after {align-self: flex-end;width: 50%;}#sk-container-id-4 div.sk-parallel-item:last-child::after {align-self: flex-start;width: 50%;}#sk-container-id-4 div.sk-parallel-item:only-child::after {width: 0;}#sk-container-id-4 div.sk-dashed-wrapped {border: 1px dashed gray;margin: 0 0.4em 0.5em 0.4em;box-sizing: border-box;padding-bottom: 0.4em;background-color: white;}#sk-container-id-4 div.sk-label label {font-family: monospace;font-weight: bold;display: inline-block;line-height: 1.2em;}#sk-container-id-4 div.sk-label-container {text-align: center;}#sk-container-id-4 div.sk-container {/* jupyter's `normalize.less` sets `[hidden] { display: none; }` but bootstrap.min.css set `[hidden] { display: none !important; }` so we also need the `!important` here to be able to override the default hidden behavior on the sphinx rendered scikit-learn.org. See: https://github.com/scikit-learn/scikit-learn/issues/21755 */display: inline-block !important;position: relative;}#sk-container-id-4 div.sk-text-repr-fallback {display: none;}</style><div id=\"sk-container-id-4\" class=\"sk-top-container\"><div class=\"sk-text-repr-fallback\"><pre>RandomizedSearchCV(cv=3,\n                   estimator=Pipeline(steps=[(&#x27;vect&#x27;, CountVectorizer()),\n                                             (&#x27;tfidf&#x27;, TfidfTransformer()),\n                                             (&#x27;tsvd&#x27;, TruncatedSVD()),\n                                             (&#x27;clf&#x27;, LogisticRegression())]),\n                   n_jobs=-1,\n                   param_distributions={&#x27;clf__C&#x27;: array([1.e-03, 1.e-02, 1.e-01, 1.e+00, 1.e+01, 1.e+02, 1.e+03]),\n                                        &#x27;clf__penalty&#x27;: [&#x27;l2&#x27;],\n                                        &#x27;tsvd__n_components&#x27;: [5, 10, 25, 50,\n                                                               100],\n                                        &#x27;vect__analyzer&#x27;: [&#x27;word&#x27;],\n                                        &#x27;vect__ngram_range&#x27;: [(1, 1), (2, 2),\n                                                              (3, 3)]},\n                   refit=&#x27;accuracy&#x27;, scoring=[&#x27;accuracy&#x27;, &#x27;f1&#x27;], verbose=1)</pre><b>In a Jupyter environment, please rerun this cell to show the HTML representation or trust the notebook. <br />On GitHub, the HTML representation is unable to render, please try loading this page with nbviewer.org.</b></div><div class=\"sk-container\" hidden><div class=\"sk-item sk-dashed-wrapped\"><div class=\"sk-label-container\"><div class=\"sk-label sk-toggleable\"><input class=\"sk-toggleable__control sk-hidden--visually\" id=\"sk-estimator-id-15\" type=\"checkbox\" ><label for=\"sk-estimator-id-15\" class=\"sk-toggleable__label sk-toggleable__label-arrow\">RandomizedSearchCV</label><div class=\"sk-toggleable__content\"><pre>RandomizedSearchCV(cv=3,\n                   estimator=Pipeline(steps=[(&#x27;vect&#x27;, CountVectorizer()),\n                                             (&#x27;tfidf&#x27;, TfidfTransformer()),\n                                             (&#x27;tsvd&#x27;, TruncatedSVD()),\n                                             (&#x27;clf&#x27;, LogisticRegression())]),\n                   n_jobs=-1,\n                   param_distributions={&#x27;clf__C&#x27;: array([1.e-03, 1.e-02, 1.e-01, 1.e+00, 1.e+01, 1.e+02, 1.e+03]),\n                                        &#x27;clf__penalty&#x27;: [&#x27;l2&#x27;],\n                                        &#x27;tsvd__n_components&#x27;: [5, 10, 25, 50,\n                                                               100],\n                                        &#x27;vect__analyzer&#x27;: [&#x27;word&#x27;],\n                                        &#x27;vect__ngram_range&#x27;: [(1, 1), (2, 2),\n                                                              (3, 3)]},\n                   refit=&#x27;accuracy&#x27;, scoring=[&#x27;accuracy&#x27;, &#x27;f1&#x27;], verbose=1)</pre></div></div></div><div class=\"sk-parallel\"><div class=\"sk-parallel-item\"><div class=\"sk-item\"><div class=\"sk-label-container\"><div class=\"sk-label sk-toggleable\"><input class=\"sk-toggleable__control sk-hidden--visually\" id=\"sk-estimator-id-16\" type=\"checkbox\" ><label for=\"sk-estimator-id-16\" class=\"sk-toggleable__label sk-toggleable__label-arrow\">estimator: Pipeline</label><div class=\"sk-toggleable__content\"><pre>Pipeline(steps=[(&#x27;vect&#x27;, CountVectorizer()), (&#x27;tfidf&#x27;, TfidfTransformer()),\n                (&#x27;tsvd&#x27;, TruncatedSVD()), (&#x27;clf&#x27;, LogisticRegression())])</pre></div></div></div><div class=\"sk-serial\"><div class=\"sk-item\"><div class=\"sk-serial\"><div class=\"sk-item\"><div class=\"sk-estimator sk-toggleable\"><input class=\"sk-toggleable__control sk-hidden--visually\" id=\"sk-estimator-id-17\" type=\"checkbox\" ><label for=\"sk-estimator-id-17\" class=\"sk-toggleable__label sk-toggleable__label-arrow\">CountVectorizer</label><div class=\"sk-toggleable__content\"><pre>CountVectorizer()</pre></div></div></div><div class=\"sk-item\"><div class=\"sk-estimator sk-toggleable\"><input class=\"sk-toggleable__control sk-hidden--visually\" id=\"sk-estimator-id-18\" type=\"checkbox\" ><label for=\"sk-estimator-id-18\" class=\"sk-toggleable__label sk-toggleable__label-arrow\">TfidfTransformer</label><div class=\"sk-toggleable__content\"><pre>TfidfTransformer()</pre></div></div></div><div class=\"sk-item\"><div class=\"sk-estimator sk-toggleable\"><input class=\"sk-toggleable__control sk-hidden--visually\" id=\"sk-estimator-id-19\" type=\"checkbox\" ><label for=\"sk-estimator-id-19\" class=\"sk-toggleable__label sk-toggleable__label-arrow\">TruncatedSVD</label><div class=\"sk-toggleable__content\"><pre>TruncatedSVD()</pre></div></div></div><div class=\"sk-item\"><div class=\"sk-estimator sk-toggleable\"><input class=\"sk-toggleable__control sk-hidden--visually\" id=\"sk-estimator-id-20\" type=\"checkbox\" ><label for=\"sk-estimator-id-20\" class=\"sk-toggleable__label sk-toggleable__label-arrow\">LogisticRegression</label><div class=\"sk-toggleable__content\"><pre>LogisticRegression()</pre></div></div></div></div></div></div></div></div></div></div></div></div>"
     },
     "execution_count": 39,
     "metadata": {},
     "output_type": "execute_result"
    }
   ],
   "source": [
    "grid_tf_idf_TruncatedSVD.fit(X_train, y_train)"
   ],
   "metadata": {
    "collapsed": false,
    "pycharm": {
     "name": "#%%\n"
    }
   }
  },
  {
   "cell_type": "code",
   "execution_count": 40,
   "outputs": [
    {
     "name": "stdout",
     "output_type": "stream",
     "text": [
      "Best score: 0.923\n"
     ]
    }
   ],
   "source": [
    "# print(grid_tf_idf_TruncatedSVD.best_estimator_)\n",
    "print(\"Best score: %0.3f\" % grid_tf_idf_TruncatedSVD.best_score_)"
   ],
   "metadata": {
    "collapsed": false,
    "pycharm": {
     "name": "#%%\n"
    }
   }
  },
  {
   "cell_type": "code",
   "execution_count": 41,
   "outputs": [],
   "source": [
    "predictions=grid_tf_idf_TruncatedSVD.best_estimator_.predict(X_test)"
   ],
   "metadata": {
    "collapsed": false,
    "pycharm": {
     "name": "#%%\n"
    }
   }
  },
  {
   "cell_type": "code",
   "execution_count": 42,
   "outputs": [
    {
     "name": "stdout",
     "output_type": "stream",
     "text": [
      "              precision    recall  f1-score   support\n",
      "\n",
      "         1.0       0.92      0.93      0.92      2522\n",
      "         5.0       0.93      0.91      0.92      2478\n",
      "\n",
      "    accuracy                           0.92      5000\n",
      "   macro avg       0.92      0.92      0.92      5000\n",
      "weighted avg       0.92      0.92      0.92      5000\n",
      "\n"
     ]
    }
   ],
   "source": [
    "print(classification_report(y_test, predictions))"
   ],
   "metadata": {
    "collapsed": false,
    "pycharm": {
     "name": "#%%\n"
    }
   }
  },
  {
   "cell_type": "code",
   "execution_count": 43,
   "outputs": [
    {
     "data": {
      "text/plain": "<Figure size 432x288 with 1 Axes>",
      "image/png": "[encoded data removed]"
     },
     "metadata": {
      "needs_background": "light"
     },
     "output_type": "display_data"
    }
   ],
   "source": [
    "labels = grid_tf_idf.best_estimator_.classes_\n",
    "\n",
    "sns.heatmap(\n",
    "    data=confusion_matrix(y_test, predictions),\n",
    "    annot=True,\n",
    "    fmt=\"d\",\n",
    "    cbar=False,\n",
    "    xticklabels=labels,\n",
    "    yticklabels=labels\n",
    ")\n",
    "\n",
    "plt.title(\"Confusion matrix\")\n",
    "plt.show()"
   ],
   "metadata": {
    "collapsed": false,
    "pycharm": {
     "name": "#%%\n"
    }
   }
  },
  {
   "cell_type": "markdown",
   "source": [
    "### 2-ой вариант: тематические модели LDA. Используйте accuracy и F-measure для оценки качества классификации"
   ],
   "metadata": {
    "collapsed": false,
    "pycharm": {
     "name": "#%% md\n"
    }
   }
  },
  {
   "cell_type": "code",
   "execution_count": 44,
   "outputs": [],
   "source": [
    "clf_tf_idf_LDA = Pipeline(\n",
    "    [('vect', CountVectorizer()),\n",
    "     ('lda', LatentDirichletAllocation()),\n",
    "     ('clf', LogisticRegression())]\n",
    ")\n",
    "\n",
    "params_tf_idf_LDA={\n",
    "    'vect__analyzer': ['word'],\n",
    "    'vect__max_df': [0.75],\n",
    "    'vect__ngram_range': [(1, 1)],\n",
    "    'lda__n_components' : [25, 50, 100],\n",
    "    'clf__C': np.logspace(-3, 3, 7),\n",
    "    'clf__penalty': ['l2']\n",
    "}\n",
    "\n",
    "scores=['accuracy', 'f1']"
   ],
   "metadata": {
    "collapsed": false,
    "pycharm": {
     "name": "#%%\n"
    }
   }
  },
  {
   "cell_type": "code",
   "execution_count": 45,
   "outputs": [],
   "source": [
    "grid_tf_idf_LDA = RandomizedSearchCV(\n",
    "    clf_tf_idf_LDA,\n",
    "    param_distributions=params_tf_idf_LDA,\n",
    "    cv=3,\n",
    "    scoring=scores,\n",
    "    refit=scores[0],\n",
    "    n_jobs=-1,\n",
    "    verbose=1\n",
    ")"
   ],
   "metadata": {
    "collapsed": false,
    "pycharm": {
     "name": "#%%\n"
    }
   }
  },
  {
   "cell_type": "code",
   "execution_count": 46,
   "outputs": [
    {
     "name": "stdout",
     "output_type": "stream",
     "text": [
      "Fitting 3 folds for each of 10 candidates, totalling 30 fits\n"
     ]
    },
    {
     "data": {
      "text/plain": "RandomizedSearchCV(cv=3,\n                   estimator=Pipeline(steps=[('vect', CountVectorizer()),\n                                             ('lda',\n                                              LatentDirichletAllocation()),\n                                             ('clf', LogisticRegression())]),\n                   n_jobs=-1,\n                   param_distributions={'clf__C': array([1.e-03, 1.e-02, 1.e-01, 1.e+00, 1.e+01, 1.e+02, 1.e+03]),\n                                        'clf__penalty': ['l2'],\n                                        'lda__n_components': [25, 50, 100],\n                                        'vect__analyzer': ['word'],\n                                        'vect__max_df': [0.75],\n                                        'vect__ngram_range': [(1, 1)]},\n                   refit='accuracy', scoring=['accuracy', 'f1'], verbose=1)",
      "text/html": "<style>#sk-container-id-5 {color: black;background-color: white;}#sk-container-id-5 pre{padding: 0;}#sk-container-id-5 div.sk-toggleable {background-color: white;}#sk-container-id-5 label.sk-toggleable__label {cursor: pointer;display: block;width: 100%;margin-bottom: 0;padding: 0.3em;box-sizing: border-box;text-align: center;}#sk-container-id-5 label.sk-toggleable__label-arrow:before {content: \"▸\";float: left;margin-right: 0.25em;color: #696969;}#sk-container-id-5 label.sk-toggleable__label-arrow:hover:before {color: black;}#sk-container-id-5 div.sk-estimator:hover label.sk-toggleable__label-arrow:before {color: black;}#sk-container-id-5 div.sk-toggleable__content {max-height: 0;max-width: 0;overflow: hidden;text-align: left;background-color: #f0f8ff;}#sk-container-id-5 div.sk-toggleable__content pre {margin: 0.2em;color: black;border-radius: 0.25em;background-color: #f0f8ff;}#sk-container-id-5 input.sk-toggleable__control:checked~div.sk-toggleable__content {max-height: 200px;max-width: 100%;overflow: auto;}#sk-container-id-5 input.sk-toggleable__control:checked~label.sk-toggleable__label-arrow:before {content: \"▾\";}#sk-container-id-5 div.sk-estimator input.sk-toggleable__control:checked~label.sk-toggleable__label {background-color: #d4ebff;}#sk-container-id-5 div.sk-label input.sk-toggleable__control:checked~label.sk-toggleable__label {background-color: #d4ebff;}#sk-container-id-5 input.sk-hidden--visually {border: 0;clip: rect(1px 1px 1px 1px);clip: rect(1px, 1px, 1px, 1px);height: 1px;margin: -1px;overflow: hidden;padding: 0;position: absolute;width: 1px;}#sk-container-id-5 div.sk-estimator {font-family: monospace;background-color: #f0f8ff;border: 1px dotted black;border-radius: 0.25em;box-sizing: border-box;margin-bottom: 0.5em;}#sk-container-id-5 div.sk-estimator:hover {background-color: #d4ebff;}#sk-container-id-5 div.sk-parallel-item::after {content: \"\";width: 100%;border-bottom: 1px solid gray;flex-grow: 1;}#sk-container-id-5 div.sk-label:hover label.sk-toggleable__label {background-color: #d4ebff;}#sk-container-id-5 div.sk-serial::before {content: \"\";position: absolute;border-left: 1px solid gray;box-sizing: border-box;top: 0;bottom: 0;left: 50%;z-index: 0;}#sk-container-id-5 div.sk-serial {display: flex;flex-direction: column;align-items: center;background-color: white;padding-right: 0.2em;padding-left: 0.2em;position: relative;}#sk-container-id-5 div.sk-item {position: relative;z-index: 1;}#sk-container-id-5 div.sk-parallel {display: flex;align-items: stretch;justify-content: center;background-color: white;position: relative;}#sk-container-id-5 div.sk-item::before, #sk-container-id-5 div.sk-parallel-item::before {content: \"\";position: absolute;border-left: 1px solid gray;box-sizing: border-box;top: 0;bottom: 0;left: 50%;z-index: -1;}#sk-container-id-5 div.sk-parallel-item {display: flex;flex-direction: column;z-index: 1;position: relative;background-color: white;}#sk-container-id-5 div.sk-parallel-item:first-child::after {align-self: flex-end;width: 50%;}#sk-container-id-5 div.sk-parallel-item:last-child::after {align-self: flex-start;width: 50%;}#sk-container-id-5 div.sk-parallel-item:only-child::after {width: 0;}#sk-container-id-5 div.sk-dashed-wrapped {border: 1px dashed gray;margin: 0 0.4em 0.5em 0.4em;box-sizing: border-box;padding-bottom: 0.4em;background-color: white;}#sk-container-id-5 div.sk-label label {font-family: monospace;font-weight: bold;display: inline-block;line-height: 1.2em;}#sk-container-id-5 div.sk-label-container {text-align: center;}#sk-container-id-5 div.sk-container {/* jupyter's `normalize.less` sets `[hidden] { display: none; }` but bootstrap.min.css set `[hidden] { display: none !important; }` so we also need the `!important` here to be able to override the default hidden behavior on the sphinx rendered scikit-learn.org. See: https://github.com/scikit-learn/scikit-learn/issues/21755 */display: inline-block !important;position: relative;}#sk-container-id-5 div.sk-text-repr-fallback {display: none;}</style><div id=\"sk-container-id-5\" class=\"sk-top-container\"><div class=\"sk-text-repr-fallback\"><pre>RandomizedSearchCV(cv=3,\n                   estimator=Pipeline(steps=[(&#x27;vect&#x27;, CountVectorizer()),\n                                             (&#x27;lda&#x27;,\n                                              LatentDirichletAllocation()),\n                                             (&#x27;clf&#x27;, LogisticRegression())]),\n                   n_jobs=-1,\n                   param_distributions={&#x27;clf__C&#x27;: array([1.e-03, 1.e-02, 1.e-01, 1.e+00, 1.e+01, 1.e+02, 1.e+03]),\n                                        &#x27;clf__penalty&#x27;: [&#x27;l2&#x27;],\n                                        &#x27;lda__n_components&#x27;: [25, 50, 100],\n                                        &#x27;vect__analyzer&#x27;: [&#x27;word&#x27;],\n                                        &#x27;vect__max_df&#x27;: [0.75],\n                                        &#x27;vect__ngram_range&#x27;: [(1, 1)]},\n                   refit=&#x27;accuracy&#x27;, scoring=[&#x27;accuracy&#x27;, &#x27;f1&#x27;], verbose=1)</pre><b>In a Jupyter environment, please rerun this cell to show the HTML representation or trust the notebook. <br />On GitHub, the HTML representation is unable to render, please try loading this page with nbviewer.org.</b></div><div class=\"sk-container\" hidden><div class=\"sk-item sk-dashed-wrapped\"><div class=\"sk-label-container\"><div class=\"sk-label sk-toggleable\"><input class=\"sk-toggleable__control sk-hidden--visually\" id=\"sk-estimator-id-21\" type=\"checkbox\" ><label for=\"sk-estimator-id-21\" class=\"sk-toggleable__label sk-toggleable__label-arrow\">RandomizedSearchCV</label><div class=\"sk-toggleable__content\"><pre>RandomizedSearchCV(cv=3,\n                   estimator=Pipeline(steps=[(&#x27;vect&#x27;, CountVectorizer()),\n                                             (&#x27;lda&#x27;,\n                                              LatentDirichletAllocation()),\n                                             (&#x27;clf&#x27;, LogisticRegression())]),\n                   n_jobs=-1,\n                   param_distributions={&#x27;clf__C&#x27;: array([1.e-03, 1.e-02, 1.e-01, 1.e+00, 1.e+01, 1.e+02, 1.e+03]),\n                                        &#x27;clf__penalty&#x27;: [&#x27;l2&#x27;],\n                                        &#x27;lda__n_components&#x27;: [25, 50, 100],\n                                        &#x27;vect__analyzer&#x27;: [&#x27;word&#x27;],\n                                        &#x27;vect__max_df&#x27;: [0.75],\n                                        &#x27;vect__ngram_range&#x27;: [(1, 1)]},\n                   refit=&#x27;accuracy&#x27;, scoring=[&#x27;accuracy&#x27;, &#x27;f1&#x27;], verbose=1)</pre></div></div></div><div class=\"sk-parallel\"><div class=\"sk-parallel-item\"><div class=\"sk-item\"><div class=\"sk-label-container\"><div class=\"sk-label sk-toggleable\"><input class=\"sk-toggleable__control sk-hidden--visually\" id=\"sk-estimator-id-22\" type=\"checkbox\" ><label for=\"sk-estimator-id-22\" class=\"sk-toggleable__label sk-toggleable__label-arrow\">estimator: Pipeline</label><div class=\"sk-toggleable__content\"><pre>Pipeline(steps=[(&#x27;vect&#x27;, CountVectorizer()),\n                (&#x27;lda&#x27;, LatentDirichletAllocation()),\n                (&#x27;clf&#x27;, LogisticRegression())])</pre></div></div></div><div class=\"sk-serial\"><div class=\"sk-item\"><div class=\"sk-serial\"><div class=\"sk-item\"><div class=\"sk-estimator sk-toggleable\"><input class=\"sk-toggleable__control sk-hidden--visually\" id=\"sk-estimator-id-23\" type=\"checkbox\" ><label for=\"sk-estimator-id-23\" class=\"sk-toggleable__label sk-toggleable__label-arrow\">CountVectorizer</label><div class=\"sk-toggleable__content\"><pre>CountVectorizer()</pre></div></div></div><div class=\"sk-item\"><div class=\"sk-estimator sk-toggleable\"><input class=\"sk-toggleable__control sk-hidden--visually\" id=\"sk-estimator-id-24\" type=\"checkbox\" ><label for=\"sk-estimator-id-24\" class=\"sk-toggleable__label sk-toggleable__label-arrow\">LatentDirichletAllocation</label><div class=\"sk-toggleable__content\"><pre>LatentDirichletAllocation()</pre></div></div></div><div class=\"sk-item\"><div class=\"sk-estimator sk-toggleable\"><input class=\"sk-toggleable__control sk-hidden--visually\" id=\"sk-estimator-id-25\" type=\"checkbox\" ><label for=\"sk-estimator-id-25\" class=\"sk-toggleable__label sk-toggleable__label-arrow\">LogisticRegression</label><div class=\"sk-toggleable__content\"><pre>LogisticRegression()</pre></div></div></div></div></div></div></div></div></div></div></div></div>"
     },
     "execution_count": 46,
     "metadata": {},
     "output_type": "execute_result"
    }
   ],
   "source": [
    "grid_tf_idf_LDA.fit(X_train, y_train)"
   ],
   "metadata": {
    "collapsed": false,
    "pycharm": {
     "name": "#%%\n"
    }
   }
  },
  {
   "cell_type": "code",
   "execution_count": 47,
   "outputs": [
    {
     "name": "stdout",
     "output_type": "stream",
     "text": [
      "Best score: 0.906\n"
     ]
    }
   ],
   "source": [
    "# print(grid_tf_idf_LDA.best_estimator_)\n",
    "print(\"Best score: %0.3f\" % grid_tf_idf_LDA.best_score_)"
   ],
   "metadata": {
    "collapsed": false,
    "pycharm": {
     "name": "#%%\n"
    }
   }
  },
  {
   "cell_type": "code",
   "execution_count": 48,
   "outputs": [],
   "source": [
    "predictions=grid_tf_idf_LDA.best_estimator_.predict(X_test)"
   ],
   "metadata": {
    "collapsed": false,
    "pycharm": {
     "name": "#%%\n"
    }
   }
  },
  {
   "cell_type": "code",
   "execution_count": 49,
   "outputs": [
    {
     "name": "stdout",
     "output_type": "stream",
     "text": [
      "              precision    recall  f1-score   support\n",
      "\n",
      "         1.0       0.90      0.93      0.91      2522\n",
      "         5.0       0.93      0.89      0.91      2478\n",
      "\n",
      "    accuracy                           0.91      5000\n",
      "   macro avg       0.91      0.91      0.91      5000\n",
      "weighted avg       0.91      0.91      0.91      5000\n",
      "\n"
     ]
    }
   ],
   "source": [
    "print(classification_report(y_test, predictions))"
   ],
   "metadata": {
    "collapsed": false,
    "pycharm": {
     "name": "#%%\n"
    }
   }
  },
  {
   "cell_type": "code",
   "execution_count": 50,
   "outputs": [
    {
     "data": {
      "text/plain": "<Figure size 432x288 with 1 Axes>",
      "image/png": "[encoded data removed]"
     },
     "metadata": {
      "needs_background": "light"
     },
     "output_type": "display_data"
    }
   ],
   "source": [
    "labels = grid_tf_idf_LDA.best_estimator_.classes_\n",
    "\n",
    "sns.heatmap(\n",
    "    data=confusion_matrix(y_test, predictions),\n",
    "    annot=True,\n",
    "    fmt=\"d\",\n",
    "    cbar=False,\n",
    "    xticklabels=labels,\n",
    "    yticklabels=labels\n",
    ")\n",
    "\n",
    "plt.title(\"Confusion matrix\")\n",
    "plt.show()"
   ],
   "metadata": {
    "collapsed": false,
    "pycharm": {
     "name": "#%%\n"
    }
   }
  },
  {
   "cell_type": "code",
   "execution_count": 51,
   "outputs": [
    {
     "name": "stdout",
     "output_type": "stream",
     "text": [
      "cntv\n",
      "f1_score:  0.949\n",
      "Accuracy:  0.949\n",
      "\n",
      "\n",
      "tf_idf\n",
      "f1_score:  0.953\n",
      "Accuracy:  0.953\n",
      "\n",
      "\n",
      "tf_idf_TruncatedSVD\n",
      "f1_score:  0.923\n",
      "Accuracy:  0.923\n",
      "\n",
      "\n",
      "tf_idf_LDA\n",
      "f1_score:  0.911\n",
      "Accuracy:  0.911\n",
      "\n",
      "\n"
     ]
    }
   ],
   "source": [
    "models=['grid_cntv', 'grid_tf_idf', 'grid_tf_idf_TruncatedSVD', 'grid_tf_idf_LDA']\n",
    "\n",
    "for model in models:\n",
    "    print(model[5:])\n",
    "    predictions=eval(model).best_estimator_.predict(X_test)\n",
    "    print(\"f1_score: {0:6.3f}\\nAccuracy: {0:6.3f}\\n\\n\".format(\n",
    "        f1_score(y_test, predictions, average='macro'),\n",
    "        accuracy_score(y_test, predictions)))"
   ],
   "metadata": {
    "collapsed": false,
    "pycharm": {
     "name": "#%%\n"
    }
   }
  },
  {
   "cell_type": "markdown",
   "source": [
    "tf_idf наиболее удачный вариант"
   ],
   "metadata": {
    "collapsed": false,
    "pycharm": {
     "name": "#%% md\n"
    }
   }
  },
  {
   "cell_type": "code",
   "execution_count": 16,
   "outputs": [],
   "source": [
    "# from sklearn.pipeline import Pipeline\n",
    "# from sklearn.ensemble import RandomForestClassifier\n",
    "#\n",
    "# # !!! На каждом этапе Pipeline нужно указать свои параметры\n",
    "# # 1-ый вариант: tf-idf + LSI\n",
    "# # 2-ой вариант: LDA\n",
    "#\n",
    "# # clf = Pipeline([\n",
    "# #     ('vect', CountVectorizer(analyzer = 'char', ngram_range={4,6})),\n",
    "# #     ('clf', RandomForestClassifier()),\n",
    "# # ])\n",
    "#\n",
    "#\n",
    "#\n",
    "# clf = Pipeline([\n",
    "#     ('vect', CountVectorizer()),\n",
    "#     ('tfidf', TfidfTransformer()),\n",
    "#     ('tm', TruncatedSVD()),\n",
    "#     ('clf', RandomForestClassifier())\n",
    "# ])"
   ],
   "metadata": {
    "collapsed": false,
    "pycharm": {
     "name": "#%%\n"
    }
   }
  },
  {
   "cell_type": "code",
   "execution_count": 16,
   "outputs": [],
   "source": [],
   "metadata": {
    "collapsed": false,
    "pycharm": {
     "name": "#%%\n"
    }
   }
  }
 ]
}